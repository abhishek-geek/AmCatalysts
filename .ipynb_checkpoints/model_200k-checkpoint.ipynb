{
 "cells": [
  {
   "cell_type": "code",
   "execution_count": 2,
   "id": "EI9AvELmFdeH",
   "metadata": {
    "id": "EI9AvELmFdeH"
   },
   "outputs": [],
   "source": [
    "# !python -m spacy download 'en_core_web_lg'"
   ]
  },
  {
   "cell_type": "code",
   "execution_count": 3,
   "id": "PBQhBHlCFdmD",
   "metadata": {
    "id": "PBQhBHlCFdmD"
   },
   "outputs": [],
   "source": [
    "# !wget https://s3-ap-southeast-1.amazonaws.com/he-public-data/dataset52a7b21.zip"
   ]
  },
  {
   "cell_type": "markdown",
   "id": "U5crey0ArdzF",
   "metadata": {
    "id": "U5crey0ArdzF"
   },
   "source": []
  },
  {
   "cell_type": "code",
   "execution_count": 4,
   "id": "AuH0qBv8Fd6m",
   "metadata": {
    "id": "AuH0qBv8Fd6m"
   },
   "outputs": [],
   "source": [
    "# !unzip /content/dataset52a7b21.zip"
   ]
  },
  {
   "cell_type": "code",
   "execution_count": 5,
   "id": "wlb_4BpwVgWd",
   "metadata": {
    "colab": {
     "base_uri": "https://localhost:8080/"
    },
    "id": "wlb_4BpwVgWd",
    "outputId": "b337d122-c469-486f-ccc8-f497dfd0fad7"
   },
   "outputs": [
    {
     "name": "stdout",
     "output_type": "stream",
     "text": [
      "Mounted at /drive\n"
     ]
    }
   ],
   "source": [
    "from google.colab import drive\n",
    "drive.mount('/drive')"
   ]
  },
  {
   "cell_type": "code",
   "execution_count": 5,
   "id": "VAdz6K3VVgjH",
   "metadata": {
    "id": "VAdz6K3VVgjH"
   },
   "outputs": [],
   "source": []
  },
  {
   "cell_type": "code",
   "execution_count": 6,
   "id": "72bafdb9",
   "metadata": {
    "id": "72bafdb9"
   },
   "outputs": [],
   "source": [
    "import pandas as pd\n",
    "import csv"
   ]
  },
  {
   "cell_type": "code",
   "execution_count": 7,
   "id": "739b1c36",
   "metadata": {
    "colab": {
     "base_uri": "https://localhost:8080/",
     "height": 286
    },
    "id": "739b1c36",
    "outputId": "1d5878ba-d8a8-4b69-bc13-b4bc53f25475"
   },
   "outputs": [
    {
     "data": {
      "text/html": [
       "<div>\n",
       "<style scoped>\n",
       "    .dataframe tbody tr th:only-of-type {\n",
       "        vertical-align: middle;\n",
       "    }\n",
       "\n",
       "    .dataframe tbody tr th {\n",
       "        vertical-align: top;\n",
       "    }\n",
       "\n",
       "    .dataframe thead th {\n",
       "        text-align: right;\n",
       "    }\n",
       "</style>\n",
       "<table border=\"1\" class=\"dataframe\">\n",
       "  <thead>\n",
       "    <tr style=\"text-align: right;\">\n",
       "      <th></th>\n",
       "      <th>TITLE</th>\n",
       "      <th>DESCRIPTION</th>\n",
       "      <th>BULLET_POINTS</th>\n",
       "      <th>BRAND</th>\n",
       "      <th>BROWSE_NODE_ID</th>\n",
       "    </tr>\n",
       "  </thead>\n",
       "  <tbody>\n",
       "    <tr>\n",
       "      <th>1320140</th>\n",
       "      <td>75 Pcs Rainbow Sia Seeds Flower Indoor Flower ...</td>\n",
       "      <td>High Quality Seeds with Germination rate of ab...</td>\n",
       "      <td>[High Quality Seeds with Germination rate of a...</td>\n",
       "      <td>Generic</td>\n",
       "      <td>1988</td>\n",
       "    </tr>\n",
       "    <tr>\n",
       "      <th>2271489</th>\n",
       "      <td>Ozar Adjustable Hand Reamers (Multicolor)</td>\n",
       "      <td>NaN</td>\n",
       "      <td>[Brand: ozar,Hand reamers,3/a 13/32 inch, 7/16...</td>\n",
       "      <td>Ozar</td>\n",
       "      <td>740325</td>\n",
       "    </tr>\n",
       "    <tr>\n",
       "      <th>1199120</th>\n",
       "      <td>Bastar Art Brass 3 Rider Figurine (25 cm x 8 c...</td>\n",
       "      <td>Dhokra Art, A Genuine Indian Work Of Art Produ...</td>\n",
       "      <td>[Material: Brass; A Genuine Indian Work Of Art...</td>\n",
       "      <td>Bastar Art</td>\n",
       "      <td>251</td>\n",
       "    </tr>\n",
       "    <tr>\n",
       "      <th>2299664</th>\n",
       "      <td>UCB United Colors of Benetton Men's Dreams Go ...</td>\n",
       "      <td>United dreams goes a step further by creating ...</td>\n",
       "      <td>[The new men's fragrance from the united dream...</td>\n",
       "      <td>United Colors of Benetton</td>\n",
       "      <td>76</td>\n",
       "    </tr>\n",
       "    <tr>\n",
       "      <th>1942941</th>\n",
       "      <td>Yihome Womens Coats, Pure Color Faux Fur Pocke...</td>\n",
       "      <td>&lt;br&gt;&lt;b&gt;Product information:&lt;/b&gt;&lt;br&gt;Season:All ...</td>\n",
       "      <td>[√ It is made of high quality materials, durab...</td>\n",
       "      <td>Yihome</td>\n",
       "      <td>9975</td>\n",
       "    </tr>\n",
       "  </tbody>\n",
       "</table>\n",
       "</div>"
      ],
      "text/plain": [
       "                                                     TITLE  ... BROWSE_NODE_ID\n",
       "1320140  75 Pcs Rainbow Sia Seeds Flower Indoor Flower ...  ...           1988\n",
       "2271489          Ozar Adjustable Hand Reamers (Multicolor)  ...         740325\n",
       "1199120  Bastar Art Brass 3 Rider Figurine (25 cm x 8 c...  ...            251\n",
       "2299664  UCB United Colors of Benetton Men's Dreams Go ...  ...             76\n",
       "1942941  Yihome Womens Coats, Pure Color Faux Fur Pocke...  ...           9975\n",
       "\n",
       "[5 rows x 5 columns]"
      ]
     },
     "execution_count": 7,
     "metadata": {
      "tags": []
     },
     "output_type": "execute_result"
    }
   ],
   "source": [
    "# file_path = './dataset/small_test.csv'\n",
    "file_path = '/drive/My Drive/colab_data/train_100k.csv'\n",
    "# file_path = '/content/dataset/train.csv'\n",
    "# escape_char_defined = \"\\\\\"\n",
    "train_data = pd.read_csv(file_path, index_col=0)\n",
    "# train_data = pd.read_csv(file_path, error_bad_lines=False, quoting=csv.QUOTE_NONE, escapechar=escape_char_defined)\n",
    "train_data.head()"
   ]
  },
  {
   "cell_type": "code",
   "execution_count": 8,
   "id": "a4aa476f",
   "metadata": {
    "id": "a4aa476f"
   },
   "outputs": [],
   "source": [
    "train_data = train_data.dropna(axis=0)"
   ]
  },
  {
   "cell_type": "code",
   "execution_count": 9,
   "id": "9e5048c2",
   "metadata": {
    "id": "9e5048c2"
   },
   "outputs": [],
   "source": [
    "import numpy as np\n",
    "import spacy\n",
    "\n",
    "# Need to load the large model to get the vectors\n",
    "nlp = spacy.load('en_core_web_lg')"
   ]
  },
  {
   "cell_type": "code",
   "execution_count": 10,
   "id": "nB6-3V--JwYA",
   "metadata": {
    "id": "nB6-3V--JwYA"
   },
   "outputs": [],
   "source": [
    "def get_vec(col, df):\n",
    "  lst=[]\n",
    "  with nlp.disable_pipes():\n",
    "    for idx, data in df.iterrows():\n",
    "      filtered_text = \"\"\n",
    "      doc = nlp(data[col])\n",
    "      for token in doc:\n",
    "          if(token.is_stop==False):\n",
    "              filtered_text = filtered_text+\" \"+str(token)\n",
    "      lst.append(nlp(filtered_text).vector)\n",
    "    return np.array(lst)"
   ]
  },
  {
   "cell_type": "code",
   "execution_count": 11,
   "id": "FwFp6fTdJwrt",
   "metadata": {
    "id": "FwFp6fTdJwrt"
   },
   "outputs": [],
   "source": [
    "# desc_vectors = get_vec(\"DESCRIPTION\", train_data)\n",
    "# desc_vectors.shape"
   ]
  },
  {
   "cell_type": "code",
   "execution_count": 12,
   "id": "WWoOxYSoNQfy",
   "metadata": {
    "id": "WWoOxYSoNQfy"
   },
   "outputs": [],
   "source": [
    "# title_vectors = get_vec(\"TITLE\", train_data)\n",
    "# title_vectors.shape"
   ]
  },
  {
   "cell_type": "code",
   "execution_count": 13,
   "id": "Sd2_WBoxNQzt",
   "metadata": {
    "id": "Sd2_WBoxNQzt"
   },
   "outputs": [],
   "source": [
    "# brand_vectors = get_vec(\"BRAND\", train_data)\n",
    "# brand_vectors.shape"
   ]
  },
  {
   "cell_type": "code",
   "execution_count": 14,
   "id": "eJZrkswFNRFA",
   "metadata": {
    "colab": {
     "base_uri": "https://localhost:8080/"
    },
    "id": "eJZrkswFNRFA",
    "outputId": "e6f771d1-3849-4e6d-f62a-cceb260ba267"
   },
   "outputs": [
    {
     "data": {
      "text/plain": [
       "(72695, 300)"
      ]
     },
     "execution_count": 14,
     "metadata": {
      "tags": []
     },
     "output_type": "execute_result"
    }
   ],
   "source": [
    "bp_vectors = get_vec(\"BULLET_POINTS\", train_data)\n",
    "bp_vectors.shape"
   ]
  },
  {
   "cell_type": "code",
   "execution_count": 15,
   "id": "HQ6kP9iKNlIe",
   "metadata": {
    "id": "HQ6kP9iKNlIe"
   },
   "outputs": [],
   "source": [
    "# A = (title_vectors, desc_vectors, brand_vectors, bp_vectors)\n",
    "# X = np.hstack(A)\n",
    "# X.shape"
   ]
  },
  {
   "cell_type": "code",
   "execution_count": 15,
   "id": "DiUY-4opYkaG",
   "metadata": {
    "id": "DiUY-4opYkaG"
   },
   "outputs": [],
   "source": []
  },
  {
   "cell_type": "code",
   "execution_count": 16,
   "id": "znwdOY8MXZcj",
   "metadata": {
    "colab": {
     "base_uri": "https://localhost:8080/"
    },
    "id": "znwdOY8MXZcj",
    "outputId": "f27387d0-666b-4005-cc71-598e3d42c0a7"
   },
   "outputs": [
    {
     "data": {
      "text/plain": [
       "LinearSVC(C=1.0, class_weight=None, dual=False, fit_intercept=True,\n",
       "          intercept_scaling=1, loss='squared_hinge', max_iter=1000,\n",
       "          multi_class='ovr', penalty='l2', random_state=1, tol=0.0001,\n",
       "          verbose=0)"
      ]
     },
     "execution_count": 16,
     "metadata": {
      "tags": []
     },
     "output_type": "execute_result"
    }
   ],
   "source": [
    "from sklearn.svm import LinearSVC\n",
    "# Create the LinearSVC model\n",
    "model = LinearSVC(random_state=1, dual=False)\n",
    "# Fit the model\n",
    "model.fit(bp_vectors, train_data[\"BROWSE_NODE_ID\"])"
   ]
  },
  {
   "cell_type": "code",
   "execution_count": 17,
   "id": "Pkp-9mZ5g3Jj",
   "metadata": {
    "colab": {
     "base_uri": "https://localhost:8080/",
     "height": 286
    },
    "id": "Pkp-9mZ5g3Jj",
    "outputId": "e4790142-d37e-4fa4-e496-af1516b1c067"
   },
   "outputs": [
    {
     "data": {
      "text/html": [
       "<div>\n",
       "<style scoped>\n",
       "    .dataframe tbody tr th:only-of-type {\n",
       "        vertical-align: middle;\n",
       "    }\n",
       "\n",
       "    .dataframe tbody tr th {\n",
       "        vertical-align: top;\n",
       "    }\n",
       "\n",
       "    .dataframe thead th {\n",
       "        text-align: right;\n",
       "    }\n",
       "</style>\n",
       "<table border=\"1\" class=\"dataframe\">\n",
       "  <thead>\n",
       "    <tr style=\"text-align: right;\">\n",
       "      <th></th>\n",
       "      <th>PRODUCT_ID</th>\n",
       "      <th>TITLE</th>\n",
       "      <th>DESCRIPTION</th>\n",
       "      <th>BULLET_POINTS</th>\n",
       "      <th>BRAND</th>\n",
       "    </tr>\n",
       "  </thead>\n",
       "  <tbody>\n",
       "    <tr>\n",
       "      <th>0</th>\n",
       "      <td>1</td>\n",
       "      <td>Command 3M Small Kitchen Hooks, White, Decorat...</td>\n",
       "      <td>Sale Unit: PACK</td>\n",
       "      <td>[INCLUDES - 9 hooks and 12 small indoor strips...</td>\n",
       "      <td>Command</td>\n",
       "    </tr>\n",
       "    <tr>\n",
       "      <th>1</th>\n",
       "      <td>2</td>\n",
       "      <td>O'Neal Jump Hardware JAG Unisex-Adult Glove (B...</td>\n",
       "      <td>Synthetic leather palm with double-layer thumb...</td>\n",
       "      <td>[Silicone printing for a better grip. Long las...</td>\n",
       "      <td>O'Neal</td>\n",
       "    </tr>\n",
       "    <tr>\n",
       "      <th>2</th>\n",
       "      <td>3</td>\n",
       "      <td>NFL Detroit Lions Portable Party Fridge, 15.8 ...</td>\n",
       "      <td>Boelter Brands lets you celebrate your favorit...</td>\n",
       "      <td>[Runs on 12 Volt DC Power or 110 Volt AC Power...</td>\n",
       "      <td>Boelter Brands</td>\n",
       "    </tr>\n",
       "    <tr>\n",
       "      <th>3</th>\n",
       "      <td>4</td>\n",
       "      <td>Panasonic Single Line KX-TS880MX Corded Phone ...</td>\n",
       "      <td>Features: 50 Station Phonebook Corded Phone Al...</td>\n",
       "      <td>Panasonic Landline Phones doesn't come with a ...</td>\n",
       "      <td>Panasonic</td>\n",
       "    </tr>\n",
       "    <tr>\n",
       "      <th>4</th>\n",
       "      <td>5</td>\n",
       "      <td>Zero Baby Girl's 100% Cotton Innerwear Bloomer...</td>\n",
       "      <td>Zero Baby Girl Panties Set. 100% Cotton, Breat...</td>\n",
       "      <td>[Zero Baby Girl Panties, Pack of 6, 100% Cotto...</td>\n",
       "      <td>Zero</td>\n",
       "    </tr>\n",
       "  </tbody>\n",
       "</table>\n",
       "</div>"
      ],
      "text/plain": [
       "   PRODUCT_ID  ...           BRAND\n",
       "0           1  ...         Command\n",
       "1           2  ...          O'Neal\n",
       "2           3  ...  Boelter Brands\n",
       "3           4  ...       Panasonic\n",
       "4           5  ...            Zero\n",
       "\n",
       "[5 rows x 5 columns]"
      ]
     },
     "execution_count": 17,
     "metadata": {
      "tags": []
     },
     "output_type": "execute_result"
    }
   ],
   "source": [
    "# file_path = './dataset/small_test.csv'\n",
    "file_path = '/content/dataset/test.csv'\n",
    "escape_char_defined = \"\\\\\"\n",
    "# data = pd.read_csv(file_path, error_bad_lines=False)\n",
    "test_data = pd.read_csv(file_path, error_bad_lines=False, quoting=csv.QUOTE_NONE, escapechar=escape_char_defined)\n",
    "test_data.head()"
   ]
  },
  {
   "cell_type": "code",
   "execution_count": 18,
   "id": "t-AlP-xRib_0",
   "metadata": {
    "id": "t-AlP-xRib_0"
   },
   "outputs": [],
   "source": [
    "test_data = test_data.replace(np.nan, '', regex=True)"
   ]
  },
  {
   "cell_type": "code",
   "execution_count": 19,
   "id": "GGgsdU_IZKbN",
   "metadata": {
    "id": "GGgsdU_IZKbN"
   },
   "outputs": [],
   "source": [
    "# test_data = test_data.head()"
   ]
  },
  {
   "cell_type": "code",
   "execution_count": 20,
   "id": "yIhS_TlEZK2T",
   "metadata": {
    "id": "yIhS_TlEZK2T"
   },
   "outputs": [],
   "source": [
    "# desc_vectors = get_vec(\"DESCRIPTION\", test_data)\n",
    "# desc_vectors.shape"
   ]
  },
  {
   "cell_type": "code",
   "execution_count": 21,
   "id": "fdBMvvOAZK2T",
   "metadata": {
    "id": "fdBMvvOAZK2T"
   },
   "outputs": [],
   "source": [
    "# title_vectors = get_vec(\"TITLE\", test_data)\n",
    "# title_vectors.shape"
   ]
  },
  {
   "cell_type": "code",
   "execution_count": 22,
   "id": "SLJQSW0mZK2U",
   "metadata": {
    "id": "SLJQSW0mZK2U"
   },
   "outputs": [],
   "source": [
    "# brand_vectors = get_vec(\"BRAND\", test_data)\n",
    "# brand_vectors.shape"
   ]
  },
  {
   "cell_type": "code",
   "execution_count": 23,
   "id": "_9VRQGRbZK2U",
   "metadata": {
    "colab": {
     "base_uri": "https://localhost:8080/"
    },
    "id": "_9VRQGRbZK2U",
    "outputId": "b795bd08-5739-4e4a-c09d-07a53c39c4cb"
   },
   "outputs": [
    {
     "data": {
      "text/plain": [
       "(110775, 300)"
      ]
     },
     "execution_count": 23,
     "metadata": {
      "tags": []
     },
     "output_type": "execute_result"
    }
   ],
   "source": [
    "bp_vectors = get_vec(\"BULLET_POINTS\", test_data)\n",
    "bp_vectors.shape"
   ]
  },
  {
   "cell_type": "code",
   "execution_count": 24,
   "id": "TnIVWiJtZK2U",
   "metadata": {
    "id": "TnIVWiJtZK2U"
   },
   "outputs": [],
   "source": [
    "# A = (title_vectors, desc_vectors, brand_vectors, bp_vectors)\n",
    "# X = np.hstack(A)\n",
    "# X.shape"
   ]
  },
  {
   "cell_type": "code",
   "execution_count": 25,
   "id": "c8N3GxRdjDx3",
   "metadata": {
    "colab": {
     "base_uri": "https://localhost:8080/"
    },
    "id": "c8N3GxRdjDx3",
    "outputId": "b64c5646-35d5-4463-c49c-fc204a9e351b"
   },
   "outputs": [
    {
     "data": {
      "text/plain": [
       "array([1140,   69,  593, ...,  800,  800,  800])"
      ]
     },
     "execution_count": 25,
     "metadata": {
      "tags": []
     },
     "output_type": "execute_result"
    }
   ],
   "source": [
    "preds = model.predict(bp_vectors)\n",
    "preds"
   ]
  },
  {
   "cell_type": "code",
   "execution_count": null,
   "id": "P0XStkU0jQkq",
   "metadata": {
    "id": "P0XStkU0jQkq"
   },
   "outputs": [],
   "source": [
    "df = pd.DataFrame()\n",
    "df[\"PRODUCT_ID\"] = test_data[\"PRODUCT_ID\"]\n",
    "df[\"BROWSE_NODE_ID\"] = preds\n",
    "df"
   ]
  },
  {
   "cell_type": "code",
   "execution_count": null,
   "id": "XfPr1Cv-RfYD",
   "metadata": {
    "id": "XfPr1Cv-RfYD"
   },
   "outputs": [],
   "source": [
    "df.to_csv('/drive/My Drive/colab_data/submit_100k.csv',index=False)\n"
   ]
  },
  {
   "cell_type": "code",
   "execution_count": 27,
   "id": "LyUteC6gS3qK",
   "metadata": {
    "id": "LyUteC6gS3qK"
   },
   "outputs": [],
   "source": []
  }
 ],
 "metadata": {
  "colab": {
   "collapsed_sections": [],
   "name": "model-1.ipynb",
   "provenance": []
  },
  "kernelspec": {
   "display_name": "Python 3 (ipykernel)",
   "language": "python",
   "name": "python3"
  },
  "language_info": {
   "codemirror_mode": {
    "name": "ipython",
    "version": 3
   },
   "file_extension": ".py",
   "mimetype": "text/x-python",
   "name": "python",
   "nbconvert_exporter": "python",
   "pygments_lexer": "ipython3",
   "version": "3.8.10"
  }
 },
 "nbformat": 4,
 "nbformat_minor": 5
}
