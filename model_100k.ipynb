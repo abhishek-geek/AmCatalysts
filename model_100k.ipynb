{
  "nbformat": 4,
  "nbformat_minor": 5,
  "metadata": {
    "kernelspec": {
      "display_name": "Python 3 (ipykernel)",
      "language": "python",
      "name": "python3"
    },
    "language_info": {
      "codemirror_mode": {
        "name": "ipython",
        "version": 3
      },
      "file_extension": ".py",
      "mimetype": "text/x-python",
      "name": "python",
      "nbconvert_exporter": "python",
      "pygments_lexer": "ipython3",
      "version": "3.8.10"
    },
    "colab": {
      "name": "model-1.ipynb",
      "provenance": [],
      "collapsed_sections": []
    }
  },
  "cells": [
    {
      "cell_type": "code",
      "metadata": {
        "id": "EI9AvELmFdeH"
      },
      "source": [
        "# !python -m spacy download 'en_core_web_lg'"
      ],
      "id": "EI9AvELmFdeH",
      "execution_count": 2,
      "outputs": []
    },
    {
      "cell_type": "code",
      "metadata": {
        "id": "PBQhBHlCFdmD"
      },
      "source": [
        "# !wget https://s3-ap-southeast-1.amazonaws.com/he-public-data/dataset52a7b21.zip"
      ],
      "id": "PBQhBHlCFdmD",
      "execution_count": 3,
      "outputs": []
    },
    {
      "cell_type": "markdown",
      "metadata": {
        "id": "U5crey0ArdzF"
      },
      "source": [
        ""
      ],
      "id": "U5crey0ArdzF"
    },
    {
      "cell_type": "code",
      "metadata": {
        "id": "AuH0qBv8Fd6m"
      },
      "source": [
        "# !unzip /content/dataset52a7b21.zip"
      ],
      "id": "AuH0qBv8Fd6m",
      "execution_count": 4,
      "outputs": []
    },
    {
      "cell_type": "code",
      "metadata": {
        "colab": {
          "base_uri": "https://localhost:8080/"
        },
        "id": "wlb_4BpwVgWd",
        "outputId": "b337d122-c469-486f-ccc8-f497dfd0fad7"
      },
      "source": [
        "from google.colab import drive\n",
        "drive.mount('/drive')"
      ],
      "id": "wlb_4BpwVgWd",
      "execution_count": 5,
      "outputs": [
        {
          "output_type": "stream",
          "text": [
            "Mounted at /drive\n"
          ],
          "name": "stdout"
        }
      ]
    },
    {
      "cell_type": "code",
      "metadata": {
        "id": "VAdz6K3VVgjH"
      },
      "source": [
        ""
      ],
      "id": "VAdz6K3VVgjH",
      "execution_count": 5,
      "outputs": []
    },
    {
      "cell_type": "code",
      "metadata": {
        "id": "72bafdb9"
      },
      "source": [
        "import pandas as pd\n",
        "import csv"
      ],
      "id": "72bafdb9",
      "execution_count": 6,
      "outputs": []
    },
    {
      "cell_type": "code",
      "metadata": {
        "colab": {
          "base_uri": "https://localhost:8080/",
          "height": 286
        },
        "id": "739b1c36",
        "outputId": "1d5878ba-d8a8-4b69-bc13-b4bc53f25475"
      },
      "source": [
        "# file_path = './dataset/small_test.csv'\n",
        "file_path = '/drive/My Drive/colab_data/train_100k.csv'\n",
        "# file_path = '/content/dataset/train.csv'\n",
        "# escape_char_defined = \"\\\\\"\n",
        "train_data = pd.read_csv(file_path, index_col=0)\n",
        "# train_data = pd.read_csv(file_path, error_bad_lines=False, quoting=csv.QUOTE_NONE, escapechar=escape_char_defined)\n",
        "train_data.head()"
      ],
      "id": "739b1c36",
      "execution_count": 7,
      "outputs": [
        {
          "output_type": "execute_result",
          "data": {
            "text/html": [
              "<div>\n",
              "<style scoped>\n",
              "    .dataframe tbody tr th:only-of-type {\n",
              "        vertical-align: middle;\n",
              "    }\n",
              "\n",
              "    .dataframe tbody tr th {\n",
              "        vertical-align: top;\n",
              "    }\n",
              "\n",
              "    .dataframe thead th {\n",
              "        text-align: right;\n",
              "    }\n",
              "</style>\n",
              "<table border=\"1\" class=\"dataframe\">\n",
              "  <thead>\n",
              "    <tr style=\"text-align: right;\">\n",
              "      <th></th>\n",
              "      <th>TITLE</th>\n",
              "      <th>DESCRIPTION</th>\n",
              "      <th>BULLET_POINTS</th>\n",
              "      <th>BRAND</th>\n",
              "      <th>BROWSE_NODE_ID</th>\n",
              "    </tr>\n",
              "  </thead>\n",
              "  <tbody>\n",
              "    <tr>\n",
              "      <th>1320140</th>\n",
              "      <td>75 Pcs Rainbow Sia Seeds Flower Indoor Flower ...</td>\n",
              "      <td>High Quality Seeds with Germination rate of ab...</td>\n",
              "      <td>[High Quality Seeds with Germination rate of a...</td>\n",
              "      <td>Generic</td>\n",
              "      <td>1988</td>\n",
              "    </tr>\n",
              "    <tr>\n",
              "      <th>2271489</th>\n",
              "      <td>Ozar Adjustable Hand Reamers (Multicolor)</td>\n",
              "      <td>NaN</td>\n",
              "      <td>[Brand: ozar,Hand reamers,3/a 13/32 inch, 7/16...</td>\n",
              "      <td>Ozar</td>\n",
              "      <td>740325</td>\n",
              "    </tr>\n",
              "    <tr>\n",
              "      <th>1199120</th>\n",
              "      <td>Bastar Art Brass 3 Rider Figurine (25 cm x 8 c...</td>\n",
              "      <td>Dhokra Art, A Genuine Indian Work Of Art Produ...</td>\n",
              "      <td>[Material: Brass; A Genuine Indian Work Of Art...</td>\n",
              "      <td>Bastar Art</td>\n",
              "      <td>251</td>\n",
              "    </tr>\n",
              "    <tr>\n",
              "      <th>2299664</th>\n",
              "      <td>UCB United Colors of Benetton Men's Dreams Go ...</td>\n",
              "      <td>United dreams goes a step further by creating ...</td>\n",
              "      <td>[The new men's fragrance from the united dream...</td>\n",
              "      <td>United Colors of Benetton</td>\n",
              "      <td>76</td>\n",
              "    </tr>\n",
              "    <tr>\n",
              "      <th>1942941</th>\n",
              "      <td>Yihome Womens Coats, Pure Color Faux Fur Pocke...</td>\n",
              "      <td>&lt;br&gt;&lt;b&gt;Product information:&lt;/b&gt;&lt;br&gt;Season:All ...</td>\n",
              "      <td>[√ It is made of high quality materials, durab...</td>\n",
              "      <td>Yihome</td>\n",
              "      <td>9975</td>\n",
              "    </tr>\n",
              "  </tbody>\n",
              "</table>\n",
              "</div>"
            ],
            "text/plain": [
              "                                                     TITLE  ... BROWSE_NODE_ID\n",
              "1320140  75 Pcs Rainbow Sia Seeds Flower Indoor Flower ...  ...           1988\n",
              "2271489          Ozar Adjustable Hand Reamers (Multicolor)  ...         740325\n",
              "1199120  Bastar Art Brass 3 Rider Figurine (25 cm x 8 c...  ...            251\n",
              "2299664  UCB United Colors of Benetton Men's Dreams Go ...  ...             76\n",
              "1942941  Yihome Womens Coats, Pure Color Faux Fur Pocke...  ...           9975\n",
              "\n",
              "[5 rows x 5 columns]"
            ]
          },
          "metadata": {
            "tags": []
          },
          "execution_count": 7
        }
      ]
    },
    {
      "cell_type": "code",
      "metadata": {
        "id": "a4aa476f"
      },
      "source": [
        "train_data = train_data.dropna(axis=0)"
      ],
      "id": "a4aa476f",
      "execution_count": 8,
      "outputs": []
    },
    {
      "cell_type": "code",
      "metadata": {
        "id": "9e5048c2"
      },
      "source": [
        "import numpy as np\n",
        "import spacy\n",
        "\n",
        "# Need to load the large model to get the vectors\n",
        "nlp = spacy.load('en_core_web_lg')"
      ],
      "id": "9e5048c2",
      "execution_count": 9,
      "outputs": []
    },
    {
      "cell_type": "code",
      "metadata": {
        "id": "nB6-3V--JwYA"
      },
      "source": [
        "def get_vec(col, df):\n",
        "  lst=[]\n",
        "  with nlp.disable_pipes():\n",
        "    for idx, data in df.iterrows():\n",
        "      filtered_text = \"\"\n",
        "      doc = nlp(data[col])\n",
        "      for token in doc:\n",
        "          if(token.is_stop==False):\n",
        "              filtered_text = filtered_text+\" \"+str(token)\n",
        "      lst.append(nlp(filtered_text).vector)\n",
        "    return np.array(lst)"
      ],
      "id": "nB6-3V--JwYA",
      "execution_count": 10,
      "outputs": []
    },
    {
      "cell_type": "code",
      "metadata": {
        "id": "FwFp6fTdJwrt"
      },
      "source": [
        "# desc_vectors = get_vec(\"DESCRIPTION\", train_data)\n",
        "# desc_vectors.shape"
      ],
      "id": "FwFp6fTdJwrt",
      "execution_count": 11,
      "outputs": []
    },
    {
      "cell_type": "code",
      "metadata": {
        "id": "WWoOxYSoNQfy"
      },
      "source": [
        "# title_vectors = get_vec(\"TITLE\", train_data)\n",
        "# title_vectors.shape"
      ],
      "id": "WWoOxYSoNQfy",
      "execution_count": 12,
      "outputs": []
    },
    {
      "cell_type": "code",
      "metadata": {
        "id": "Sd2_WBoxNQzt"
      },
      "source": [
        "# brand_vectors = get_vec(\"BRAND\", train_data)\n",
        "# brand_vectors.shape"
      ],
      "id": "Sd2_WBoxNQzt",
      "execution_count": 13,
      "outputs": []
    },
    {
      "cell_type": "code",
      "metadata": {
        "colab": {
          "base_uri": "https://localhost:8080/"
        },
        "id": "eJZrkswFNRFA",
        "outputId": "e6f771d1-3849-4e6d-f62a-cceb260ba267"
      },
      "source": [
        "bp_vectors = get_vec(\"BULLET_POINTS\", train_data)\n",
        "bp_vectors.shape"
      ],
      "id": "eJZrkswFNRFA",
      "execution_count": 14,
      "outputs": [
        {
          "output_type": "execute_result",
          "data": {
            "text/plain": [
              "(72695, 300)"
            ]
          },
          "metadata": {
            "tags": []
          },
          "execution_count": 14
        }
      ]
    },
    {
      "cell_type": "code",
      "metadata": {
        "id": "HQ6kP9iKNlIe"
      },
      "source": [
        "# A = (title_vectors, desc_vectors, brand_vectors, bp_vectors)\n",
        "# X = np.hstack(A)\n",
        "# X.shape"
      ],
      "id": "HQ6kP9iKNlIe",
      "execution_count": 15,
      "outputs": []
    },
    {
      "cell_type": "code",
      "metadata": {
        "id": "DiUY-4opYkaG"
      },
      "source": [
        ""
      ],
      "id": "DiUY-4opYkaG",
      "execution_count": 15,
      "outputs": []
    },
    {
      "cell_type": "code",
      "metadata": {
        "colab": {
          "base_uri": "https://localhost:8080/"
        },
        "id": "znwdOY8MXZcj",
        "outputId": "f27387d0-666b-4005-cc71-598e3d42c0a7"
      },
      "source": [
        "from sklearn.svm import LinearSVC\n",
        "# Create the LinearSVC model\n",
        "model = LinearSVC(random_state=1, dual=False)\n",
        "# Fit the model\n",
        "model.fit(bp_vectors, train_data[\"BROWSE_NODE_ID\"])"
      ],
      "id": "znwdOY8MXZcj",
      "execution_count": 16,
      "outputs": [
        {
          "output_type": "execute_result",
          "data": {
            "text/plain": [
              "LinearSVC(C=1.0, class_weight=None, dual=False, fit_intercept=True,\n",
              "          intercept_scaling=1, loss='squared_hinge', max_iter=1000,\n",
              "          multi_class='ovr', penalty='l2', random_state=1, tol=0.0001,\n",
              "          verbose=0)"
            ]
          },
          "metadata": {
            "tags": []
          },
          "execution_count": 16
        }
      ]
    },
    {
      "cell_type": "code",
      "metadata": {
        "colab": {
          "base_uri": "https://localhost:8080/",
          "height": 286
        },
        "id": "Pkp-9mZ5g3Jj",
        "outputId": "e4790142-d37e-4fa4-e496-af1516b1c067"
      },
      "source": [
        "# file_path = './dataset/small_test.csv'\n",
        "file_path = '/content/dataset/test.csv'\n",
        "escape_char_defined = \"\\\\\"\n",
        "# data = pd.read_csv(file_path, error_bad_lines=False)\n",
        "test_data = pd.read_csv(file_path, error_bad_lines=False, quoting=csv.QUOTE_NONE, escapechar=escape_char_defined)\n",
        "test_data.head()"
      ],
      "id": "Pkp-9mZ5g3Jj",
      "execution_count": 17,
      "outputs": [
        {
          "output_type": "execute_result",
          "data": {
            "text/html": [
              "<div>\n",
              "<style scoped>\n",
              "    .dataframe tbody tr th:only-of-type {\n",
              "        vertical-align: middle;\n",
              "    }\n",
              "\n",
              "    .dataframe tbody tr th {\n",
              "        vertical-align: top;\n",
              "    }\n",
              "\n",
              "    .dataframe thead th {\n",
              "        text-align: right;\n",
              "    }\n",
              "</style>\n",
              "<table border=\"1\" class=\"dataframe\">\n",
              "  <thead>\n",
              "    <tr style=\"text-align: right;\">\n",
              "      <th></th>\n",
              "      <th>PRODUCT_ID</th>\n",
              "      <th>TITLE</th>\n",
              "      <th>DESCRIPTION</th>\n",
              "      <th>BULLET_POINTS</th>\n",
              "      <th>BRAND</th>\n",
              "    </tr>\n",
              "  </thead>\n",
              "  <tbody>\n",
              "    <tr>\n",
              "      <th>0</th>\n",
              "      <td>1</td>\n",
              "      <td>Command 3M Small Kitchen Hooks, White, Decorat...</td>\n",
              "      <td>Sale Unit: PACK</td>\n",
              "      <td>[INCLUDES - 9 hooks and 12 small indoor strips...</td>\n",
              "      <td>Command</td>\n",
              "    </tr>\n",
              "    <tr>\n",
              "      <th>1</th>\n",
              "      <td>2</td>\n",
              "      <td>O'Neal Jump Hardware JAG Unisex-Adult Glove (B...</td>\n",
              "      <td>Synthetic leather palm with double-layer thumb...</td>\n",
              "      <td>[Silicone printing for a better grip. Long las...</td>\n",
              "      <td>O'Neal</td>\n",
              "    </tr>\n",
              "    <tr>\n",
              "      <th>2</th>\n",
              "      <td>3</td>\n",
              "      <td>NFL Detroit Lions Portable Party Fridge, 15.8 ...</td>\n",
              "      <td>Boelter Brands lets you celebrate your favorit...</td>\n",
              "      <td>[Runs on 12 Volt DC Power or 110 Volt AC Power...</td>\n",
              "      <td>Boelter Brands</td>\n",
              "    </tr>\n",
              "    <tr>\n",
              "      <th>3</th>\n",
              "      <td>4</td>\n",
              "      <td>Panasonic Single Line KX-TS880MX Corded Phone ...</td>\n",
              "      <td>Features: 50 Station Phonebook Corded Phone Al...</td>\n",
              "      <td>Panasonic Landline Phones doesn't come with a ...</td>\n",
              "      <td>Panasonic</td>\n",
              "    </tr>\n",
              "    <tr>\n",
              "      <th>4</th>\n",
              "      <td>5</td>\n",
              "      <td>Zero Baby Girl's 100% Cotton Innerwear Bloomer...</td>\n",
              "      <td>Zero Baby Girl Panties Set. 100% Cotton, Breat...</td>\n",
              "      <td>[Zero Baby Girl Panties, Pack of 6, 100% Cotto...</td>\n",
              "      <td>Zero</td>\n",
              "    </tr>\n",
              "  </tbody>\n",
              "</table>\n",
              "</div>"
            ],
            "text/plain": [
              "   PRODUCT_ID  ...           BRAND\n",
              "0           1  ...         Command\n",
              "1           2  ...          O'Neal\n",
              "2           3  ...  Boelter Brands\n",
              "3           4  ...       Panasonic\n",
              "4           5  ...            Zero\n",
              "\n",
              "[5 rows x 5 columns]"
            ]
          },
          "metadata": {
            "tags": []
          },
          "execution_count": 17
        }
      ]
    },
    {
      "cell_type": "code",
      "metadata": {
        "id": "t-AlP-xRib_0"
      },
      "source": [
        "test_data = test_data.replace(np.nan, '', regex=True)"
      ],
      "id": "t-AlP-xRib_0",
      "execution_count": 18,
      "outputs": []
    },
    {
      "cell_type": "code",
      "metadata": {
        "id": "GGgsdU_IZKbN"
      },
      "source": [
        "# test_data = test_data.head()"
      ],
      "id": "GGgsdU_IZKbN",
      "execution_count": 19,
      "outputs": []
    },
    {
      "cell_type": "code",
      "metadata": {
        "id": "yIhS_TlEZK2T"
      },
      "source": [
        "# desc_vectors = get_vec(\"DESCRIPTION\", test_data)\n",
        "# desc_vectors.shape"
      ],
      "id": "yIhS_TlEZK2T",
      "execution_count": 20,
      "outputs": []
    },
    {
      "cell_type": "code",
      "metadata": {
        "id": "fdBMvvOAZK2T"
      },
      "source": [
        "# title_vectors = get_vec(\"TITLE\", test_data)\n",
        "# title_vectors.shape"
      ],
      "id": "fdBMvvOAZK2T",
      "execution_count": 21,
      "outputs": []
    },
    {
      "cell_type": "code",
      "metadata": {
        "id": "SLJQSW0mZK2U"
      },
      "source": [
        "# brand_vectors = get_vec(\"BRAND\", test_data)\n",
        "# brand_vectors.shape"
      ],
      "id": "SLJQSW0mZK2U",
      "execution_count": 22,
      "outputs": []
    },
    {
      "cell_type": "code",
      "metadata": {
        "colab": {
          "base_uri": "https://localhost:8080/"
        },
        "id": "_9VRQGRbZK2U",
        "outputId": "b795bd08-5739-4e4a-c09d-07a53c39c4cb"
      },
      "source": [
        "bp_vectors = get_vec(\"BULLET_POINTS\", test_data)\n",
        "bp_vectors.shape"
      ],
      "id": "_9VRQGRbZK2U",
      "execution_count": 23,
      "outputs": [
        {
          "output_type": "execute_result",
          "data": {
            "text/plain": [
              "(110775, 300)"
            ]
          },
          "metadata": {
            "tags": []
          },
          "execution_count": 23
        }
      ]
    },
    {
      "cell_type": "code",
      "metadata": {
        "id": "TnIVWiJtZK2U"
      },
      "source": [
        "# A = (title_vectors, desc_vectors, brand_vectors, bp_vectors)\n",
        "# X = np.hstack(A)\n",
        "# X.shape"
      ],
      "id": "TnIVWiJtZK2U",
      "execution_count": 24,
      "outputs": []
    },
    {
      "cell_type": "code",
      "metadata": {
        "colab": {
          "base_uri": "https://localhost:8080/"
        },
        "id": "c8N3GxRdjDx3",
        "outputId": "b64c5646-35d5-4463-c49c-fc204a9e351b"
      },
      "source": [
        "preds = model.predict(bp_vectors)\n",
        "preds"
      ],
      "id": "c8N3GxRdjDx3",
      "execution_count": 25,
      "outputs": [
        {
          "output_type": "execute_result",
          "data": {
            "text/plain": [
              "array([1140,   69,  593, ...,  800,  800,  800])"
            ]
          },
          "metadata": {
            "tags": []
          },
          "execution_count": 25
        }
      ]
    },
    {
      "cell_type": "code",
      "metadata": {
        "id": "P0XStkU0jQkq"
      },
      "source": [
        "df = pd.DataFrame()\n",
        "df[\"PRODUCT_ID\"] = test_data[\"PRODUCT_ID\"]\n",
        "df[\"BROWSE_NODE_ID\"] = preds\n",
        "df"
      ],
      "id": "P0XStkU0jQkq",
      "execution_count": null,
      "outputs": []
    },
    {
      "cell_type": "code",
      "metadata": {
        "id": "XfPr1Cv-RfYD"
      },
      "source": [
        "df.to_csv('/drive/My Drive/colab_data/submit_100k.csv',index=False)\n"
      ],
      "id": "XfPr1Cv-RfYD",
      "execution_count": null,
      "outputs": []
    },
    {
      "cell_type": "code",
      "metadata": {
        "id": "LyUteC6gS3qK"
      },
      "source": [
        ""
      ],
      "id": "LyUteC6gS3qK",
      "execution_count": 27,
      "outputs": []
    }
  ]
}