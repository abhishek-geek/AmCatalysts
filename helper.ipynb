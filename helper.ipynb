{
 "cells": [
  {
   "cell_type": "code",
   "execution_count": 1,
   "id": "14c5a138",
   "metadata": {},
   "outputs": [],
   "source": [
    "import pandas as pd\n",
    "import numpy as np\n",
    "import csv"
   ]
  },
  {
   "cell_type": "code",
   "execution_count": 11,
   "id": "157cf07d",
   "metadata": {},
   "outputs": [
    {
     "data": {
      "text/plain": [
       "array([[ 1,  2,  3],\n",
       "       [ 4,  5,  6],\n",
       "       [ 7,  8,  9],\n",
       "       [10, 11, 12]])"
      ]
     },
     "execution_count": 11,
     "metadata": {},
     "output_type": "execute_result"
    }
   ],
   "source": [
    "a = np.array([[1,2,3],[4,5,6],[7,8,9],[10,11,12]])\n",
    "a"
   ]
  },
  {
   "cell_type": "code",
   "execution_count": 4,
   "id": "efda63f9",
   "metadata": {},
   "outputs": [
    {
     "data": {
      "text/plain": [
       "(4, 3)"
      ]
     },
     "execution_count": 4,
     "metadata": {},
     "output_type": "execute_result"
    }
   ],
   "source": [
    "a.shape"
   ]
  },
  {
   "cell_type": "code",
   "execution_count": 9,
   "id": "d0d9913b",
   "metadata": {},
   "outputs": [
    {
     "data": {
      "text/plain": [
       "array([[1, 2, 3],\n",
       "       [4, 5, 6]])"
      ]
     },
     "execution_count": 9,
     "metadata": {},
     "output_type": "execute_result"
    }
   ],
   "source": [
    "a1 = a[0:2]\n",
    "a1"
   ]
  },
  {
   "cell_type": "code",
   "execution_count": 10,
   "id": "2e68c7ac",
   "metadata": {},
   "outputs": [
    {
     "data": {
      "text/plain": [
       "array([[ 7,  8,  9],\n",
       "       [10, 11, 12]])"
      ]
     },
     "execution_count": 10,
     "metadata": {},
     "output_type": "execute_result"
    }
   ],
   "source": [
    "a2 = a[2:4]\n",
    "a2"
   ]
  },
  {
   "cell_type": "code",
   "execution_count": 12,
   "id": "8118dac7",
   "metadata": {},
   "outputs": [
    {
     "data": {
      "text/plain": [
       "(array([[1, 2, 3],\n",
       "        [4, 5, 6]]),\n",
       " array([[ 7,  8,  9],\n",
       "        [10, 11, 12]]))"
      ]
     },
     "execution_count": 12,
     "metadata": {},
     "output_type": "execute_result"
    }
   ],
   "source": [
    "A = (a1,a2)\n",
    "A"
   ]
  },
  {
   "cell_type": "code",
   "execution_count": 32,
   "id": "009c5b2e",
   "metadata": {},
   "outputs": [
    {
     "data": {
      "text/plain": [
       "array([[ 1,  2,  3],\n",
       "       [ 4,  5,  6],\n",
       "       [ 7,  8,  9],\n",
       "       [10, 11, 12]])"
      ]
     },
     "execution_count": 32,
     "metadata": {},
     "output_type": "execute_result"
    }
   ],
   "source": [
    "X = np.vstack(A)\n",
    "X"
   ]
  },
  {
   "cell_type": "code",
   "execution_count": 15,
   "id": "345e1c82",
   "metadata": {},
   "outputs": [
    {
     "data": {
      "text/plain": [
       "(4, 3)"
      ]
     },
     "execution_count": 15,
     "metadata": {},
     "output_type": "execute_result"
    }
   ],
   "source": [
    "X.shape"
   ]
  },
  {
   "cell_type": "code",
   "execution_count": 16,
   "id": "8535ce26",
   "metadata": {},
   "outputs": [
    {
     "data": {
      "text/plain": [
       "4"
      ]
     },
     "execution_count": 16,
     "metadata": {},
     "output_type": "execute_result"
    }
   ],
   "source": [
    "a.shape[0]"
   ]
  },
  {
   "cell_type": "code",
   "execution_count": 20,
   "id": "5b92ef60",
   "metadata": {},
   "outputs": [
    {
     "data": {
      "text/plain": [
       "2"
      ]
     },
     "execution_count": 20,
     "metadata": {},
     "output_type": "execute_result"
    }
   ],
   "source": [
    "n = a.shape[0] / 2\n",
    "int(n)"
   ]
  },
  {
   "cell_type": "code",
   "execution_count": 21,
   "id": "c8d7874c",
   "metadata": {},
   "outputs": [],
   "source": [
    "n=int(n)"
   ]
  },
  {
   "cell_type": "code",
   "execution_count": 39,
   "id": "ae09fe87",
   "metadata": {},
   "outputs": [],
   "source": [
    "x=[]\n",
    "start = 0\n",
    "end = n\n",
    "for i in range(n):\n",
    "    x.append(a[start: end])\n",
    "    start = start+n\n",
    "    end = end+n"
   ]
  },
  {
   "cell_type": "code",
   "execution_count": 40,
   "id": "b53a738f",
   "metadata": {},
   "outputs": [
    {
     "data": {
      "text/plain": [
       "[array([[1, 2, 3],\n",
       "        [4, 5, 6]]),\n",
       " array([[ 7,  8,  9],\n",
       "        [10, 11, 12]])]"
      ]
     },
     "execution_count": 40,
     "metadata": {},
     "output_type": "execute_result"
    }
   ],
   "source": [
    "x"
   ]
  },
  {
   "cell_type": "code",
   "execution_count": 41,
   "id": "417410e6",
   "metadata": {},
   "outputs": [],
   "source": [
    "X = np.vstack(x)"
   ]
  },
  {
   "cell_type": "code",
   "execution_count": 42,
   "id": "7596a540",
   "metadata": {},
   "outputs": [
    {
     "data": {
      "text/plain": [
       "array([[ 1,  2,  3],\n",
       "       [ 4,  5,  6],\n",
       "       [ 7,  8,  9],\n",
       "       [10, 11, 12]])"
      ]
     },
     "execution_count": 42,
     "metadata": {},
     "output_type": "execute_result"
    }
   ],
   "source": [
    "X"
   ]
  },
  {
   "cell_type": "code",
   "execution_count": 43,
   "id": "e96d4bf0",
   "metadata": {},
   "outputs": [
    {
     "data": {
      "text/plain": [
       "array([[ 1,  2,  3],\n",
       "       [ 4,  5,  6],\n",
       "       [ 7,  8,  9],\n",
       "       [10, 11, 12]])"
      ]
     },
     "execution_count": 43,
     "metadata": {},
     "output_type": "execute_result"
    }
   ],
   "source": [
    "X"
   ]
  },
  {
   "cell_type": "code",
   "execution_count": null,
   "id": "f33445f5",
   "metadata": {},
   "outputs": [],
   "source": []
  },
  {
   "cell_type": "code",
   "execution_count": null,
   "id": "050de3ab",
   "metadata": {},
   "outputs": [],
   "source": []
  },
  {
   "cell_type": "code",
   "execution_count": null,
   "id": "ccbcdee9",
   "metadata": {},
   "outputs": [],
   "source": []
  },
  {
   "cell_type": "code",
   "execution_count": null,
   "id": "8aad0255",
   "metadata": {},
   "outputs": [],
   "source": []
  },
  {
   "cell_type": "code",
   "execution_count": null,
   "id": "a07c5be5",
   "metadata": {},
   "outputs": [],
   "source": []
  },
  {
   "cell_type": "code",
   "execution_count": null,
   "id": "f7b3144d",
   "metadata": {},
   "outputs": [],
   "source": []
  },
  {
   "cell_type": "code",
   "execution_count": null,
   "id": "97408cf9",
   "metadata": {},
   "outputs": [],
   "source": []
  },
  {
   "cell_type": "code",
   "execution_count": null,
   "id": "c6da0fed",
   "metadata": {},
   "outputs": [],
   "source": []
  },
  {
   "cell_type": "code",
   "execution_count": 2,
   "id": "27cbe5a9",
   "metadata": {},
   "outputs": [
    {
     "name": "stderr",
     "output_type": "stream",
     "text": [
      "/home/abhishek/.local/lib/python3.8/site-packages/IPython/core/interactiveshell.py:3441: FutureWarning: The error_bad_lines argument has been deprecated and will be removed in a future version.\n",
      "\n",
      "\n",
      "  exec(code_obj, self.user_global_ns, self.user_ns)\n"
     ]
    },
    {
     "data": {
      "text/html": [
       "<div>\n",
       "<style scoped>\n",
       "    .dataframe tbody tr th:only-of-type {\n",
       "        vertical-align: middle;\n",
       "    }\n",
       "\n",
       "    .dataframe tbody tr th {\n",
       "        vertical-align: top;\n",
       "    }\n",
       "\n",
       "    .dataframe thead th {\n",
       "        text-align: right;\n",
       "    }\n",
       "</style>\n",
       "<table border=\"1\" class=\"dataframe\">\n",
       "  <thead>\n",
       "    <tr style=\"text-align: right;\">\n",
       "      <th></th>\n",
       "      <th>TITLE</th>\n",
       "      <th>DESCRIPTION</th>\n",
       "      <th>BULLET_POINTS</th>\n",
       "      <th>BRAND</th>\n",
       "      <th>BROWSE_NODE_ID</th>\n",
       "    </tr>\n",
       "  </thead>\n",
       "  <tbody>\n",
       "    <tr>\n",
       "      <th>0</th>\n",
       "      <td>Pete The Cat Bedtime Blues Doll, 14.5 Inch</td>\n",
       "      <td>Pete the Cat is the coolest, most popular cat ...</td>\n",
       "      <td>[Pete the Cat Bedtime Blues plush doll,Based o...</td>\n",
       "      <td>MerryMakers</td>\n",
       "      <td>0</td>\n",
       "    </tr>\n",
       "    <tr>\n",
       "      <th>1</th>\n",
       "      <td>The New Yorker NYHM014 Refrigerator Magnet, 2 ...</td>\n",
       "      <td>The New Yorker Handsome Cello Wrapped Hard Mag...</td>\n",
       "      <td>[Cat In A Tea Cup by New Yorker cover artist G...</td>\n",
       "      <td>The New Yorker</td>\n",
       "      <td>1</td>\n",
       "    </tr>\n",
       "    <tr>\n",
       "      <th>2</th>\n",
       "      <td>The Ultimate Self-Sufficiency Handbook: A Comp...</td>\n",
       "      <td>NaN</td>\n",
       "      <td>Skyhorse Publishing</td>\n",
       "      <td>imusti</td>\n",
       "      <td>2</td>\n",
       "    </tr>\n",
       "    <tr>\n",
       "      <th>3</th>\n",
       "      <td>Amway Nutrilite Kids Chewable Iron Tablets (100)</td>\n",
       "      <td>NaN</td>\n",
       "      <td>[Nutrilite Kids,Chewable Iron Tablets,Quantity...</td>\n",
       "      <td>Amway</td>\n",
       "      <td>3</td>\n",
       "    </tr>\n",
       "    <tr>\n",
       "      <th>4</th>\n",
       "      <td>Teacher Planner Company A4 6 Lesson Academic T...</td>\n",
       "      <td>NaN</td>\n",
       "      <td>NaN</td>\n",
       "      <td>NaN</td>\n",
       "      <td>4</td>\n",
       "    </tr>\n",
       "  </tbody>\n",
       "</table>\n",
       "</div>"
      ],
      "text/plain": [
       "                                               TITLE  \\\n",
       "0         Pete The Cat Bedtime Blues Doll, 14.5 Inch   \n",
       "1  The New Yorker NYHM014 Refrigerator Magnet, 2 ...   \n",
       "2  The Ultimate Self-Sufficiency Handbook: A Comp...   \n",
       "3   Amway Nutrilite Kids Chewable Iron Tablets (100)   \n",
       "4  Teacher Planner Company A4 6 Lesson Academic T...   \n",
       "\n",
       "                                         DESCRIPTION  \\\n",
       "0  Pete the Cat is the coolest, most popular cat ...   \n",
       "1  The New Yorker Handsome Cello Wrapped Hard Mag...   \n",
       "2                                                NaN   \n",
       "3                                                NaN   \n",
       "4                                                NaN   \n",
       "\n",
       "                                       BULLET_POINTS           BRAND  \\\n",
       "0  [Pete the Cat Bedtime Blues plush doll,Based o...     MerryMakers   \n",
       "1  [Cat In A Tea Cup by New Yorker cover artist G...  The New Yorker   \n",
       "2                                Skyhorse Publishing          imusti   \n",
       "3  [Nutrilite Kids,Chewable Iron Tablets,Quantity...           Amway   \n",
       "4                                                NaN             NaN   \n",
       "\n",
       "   BROWSE_NODE_ID  \n",
       "0               0  \n",
       "1               1  \n",
       "2               2  \n",
       "3               3  \n",
       "4               4  "
      ]
     },
     "execution_count": 2,
     "metadata": {},
     "output_type": "execute_result"
    }
   ],
   "source": [
    "file_path = './dataset/train.csv'\n",
    "escape_char_defined = \"\\\\\"\n",
    "train_data = pd.read_csv(file_path, error_bad_lines=False, quoting=csv.QUOTE_NONE, escapechar=escape_char_defined)\n",
    "train_data.head()"
   ]
  },
  {
   "cell_type": "code",
   "execution_count": 3,
   "id": "2d50a255",
   "metadata": {},
   "outputs": [],
   "source": [
    "train_data = train_data.dropna(axis=0)"
   ]
  },
  {
   "cell_type": "code",
   "execution_count": 4,
   "id": "2b5730ed",
   "metadata": {},
   "outputs": [],
   "source": [
    "df = train_data.sample(n=800000)"
   ]
  },
  {
   "cell_type": "code",
   "execution_count": 5,
   "id": "8ece7e98",
   "metadata": {},
   "outputs": [
    {
     "data": {
      "text/plain": [
       "(800000, 5)"
      ]
     },
     "execution_count": 5,
     "metadata": {},
     "output_type": "execute_result"
    }
   ],
   "source": [
    "df.shape"
   ]
  },
  {
   "cell_type": "code",
   "execution_count": 6,
   "id": "261407ea",
   "metadata": {},
   "outputs": [
    {
     "data": {
      "text/html": [
       "<div>\n",
       "<style scoped>\n",
       "    .dataframe tbody tr th:only-of-type {\n",
       "        vertical-align: middle;\n",
       "    }\n",
       "\n",
       "    .dataframe tbody tr th {\n",
       "        vertical-align: top;\n",
       "    }\n",
       "\n",
       "    .dataframe thead th {\n",
       "        text-align: right;\n",
       "    }\n",
       "</style>\n",
       "<table border=\"1\" class=\"dataframe\">\n",
       "  <thead>\n",
       "    <tr style=\"text-align: right;\">\n",
       "      <th></th>\n",
       "      <th>TITLE</th>\n",
       "      <th>DESCRIPTION</th>\n",
       "      <th>BULLET_POINTS</th>\n",
       "      <th>BRAND</th>\n",
       "      <th>BROWSE_NODE_ID</th>\n",
       "    </tr>\n",
       "  </thead>\n",
       "  <tbody>\n",
       "    <tr>\n",
       "      <th>1829007</th>\n",
       "      <td>in-Ear Headphones R 20 Earphones for Xiaomi Re...</td>\n",
       "      <td>Double moving coil loud speakers deliver wonde...</td>\n",
       "      <td>[Enjoy the powerful 11.2mm bass boost driver w...</td>\n",
       "      <td>ShopsGeniune</td>\n",
       "      <td>811</td>\n",
       "    </tr>\n",
       "    <tr>\n",
       "      <th>1900577</th>\n",
       "      <td>Style Store Men's Velvet Closed Executive Form...</td>\n",
       "      <td>Rendered with the modern-day appeal, this marv...</td>\n",
       "      <td>[Sole: Airmix,It is nice affordable shoes for ...</td>\n",
       "      <td>Style Store</td>\n",
       "      <td>1409</td>\n",
       "    </tr>\n",
       "    <tr>\n",
       "      <th>1223071</th>\n",
       "      <td>Shopsmeade I Will Be No.1 - Katsuki Bakugo Mug...</td>\n",
       "      <td>Shopsmeade mugs are a great gift for any occas...</td>\n",
       "      <td>[Unique designs, 100% Premium printing, Author...</td>\n",
       "      <td>Shopsmeade</td>\n",
       "      <td>11</td>\n",
       "    </tr>\n",
       "    <tr>\n",
       "      <th>1623189</th>\n",
       "      <td>MJDCNC V8 Bluetooth Smartwatch Compatible with...</td>\n",
       "      <td>ABOUT THE PRODUCT External Dimension: 53.0X44....</td>\n",
       "      <td>[SMARTWATCH FEATURE:- 1.54 HD TFT High Sensiti...</td>\n",
       "      <td>MJDCNC</td>\n",
       "      <td>507</td>\n",
       "    </tr>\n",
       "    <tr>\n",
       "      <th>2111578</th>\n",
       "      <td>Keshav Temples Dakshinavarti Shankh - with Curls</td>\n",
       "      <td>Right Handed Shankh Non-Blowable Natural Curls...</td>\n",
       "      <td>Right Handed Shankh Non-Blowable Natural Curls...</td>\n",
       "      <td>KESHAV JEE</td>\n",
       "      <td>1287</td>\n",
       "    </tr>\n",
       "  </tbody>\n",
       "</table>\n",
       "</div>"
      ],
      "text/plain": [
       "                                                     TITLE  \\\n",
       "1829007  in-Ear Headphones R 20 Earphones for Xiaomi Re...   \n",
       "1900577  Style Store Men's Velvet Closed Executive Form...   \n",
       "1223071  Shopsmeade I Will Be No.1 - Katsuki Bakugo Mug...   \n",
       "1623189  MJDCNC V8 Bluetooth Smartwatch Compatible with...   \n",
       "2111578   Keshav Temples Dakshinavarti Shankh - with Curls   \n",
       "\n",
       "                                               DESCRIPTION  \\\n",
       "1829007  Double moving coil loud speakers deliver wonde...   \n",
       "1900577  Rendered with the modern-day appeal, this marv...   \n",
       "1223071  Shopsmeade mugs are a great gift for any occas...   \n",
       "1623189  ABOUT THE PRODUCT External Dimension: 53.0X44....   \n",
       "2111578  Right Handed Shankh Non-Blowable Natural Curls...   \n",
       "\n",
       "                                             BULLET_POINTS         BRAND  \\\n",
       "1829007  [Enjoy the powerful 11.2mm bass boost driver w...  ShopsGeniune   \n",
       "1900577  [Sole: Airmix,It is nice affordable shoes for ...   Style Store   \n",
       "1223071  [Unique designs, 100% Premium printing, Author...    Shopsmeade   \n",
       "1623189  [SMARTWATCH FEATURE:- 1.54 HD TFT High Sensiti...        MJDCNC   \n",
       "2111578  Right Handed Shankh Non-Blowable Natural Curls...    KESHAV JEE   \n",
       "\n",
       "         BROWSE_NODE_ID  \n",
       "1829007             811  \n",
       "1900577            1409  \n",
       "1223071              11  \n",
       "1623189             507  \n",
       "2111578            1287  "
      ]
     },
     "execution_count": 6,
     "metadata": {},
     "output_type": "execute_result"
    }
   ],
   "source": [
    "df.head()"
   ]
  },
  {
   "cell_type": "code",
   "execution_count": 7,
   "id": "1ecb7118",
   "metadata": {},
   "outputs": [],
   "source": [
    "df.to_csv(\"train_800k.csv\")"
   ]
  },
  {
   "cell_type": "code",
   "execution_count": 8,
   "id": "763437d1",
   "metadata": {},
   "outputs": [
    {
     "data": {
      "text/html": [
       "<div>\n",
       "<style scoped>\n",
       "    .dataframe tbody tr th:only-of-type {\n",
       "        vertical-align: middle;\n",
       "    }\n",
       "\n",
       "    .dataframe tbody tr th {\n",
       "        vertical-align: top;\n",
       "    }\n",
       "\n",
       "    .dataframe thead th {\n",
       "        text-align: right;\n",
       "    }\n",
       "</style>\n",
       "<table border=\"1\" class=\"dataframe\">\n",
       "  <thead>\n",
       "    <tr style=\"text-align: right;\">\n",
       "      <th></th>\n",
       "      <th>TITLE</th>\n",
       "      <th>DESCRIPTION</th>\n",
       "      <th>BULLET_POINTS</th>\n",
       "      <th>BRAND</th>\n",
       "      <th>BROWSE_NODE_ID</th>\n",
       "    </tr>\n",
       "  </thead>\n",
       "  <tbody>\n",
       "    <tr>\n",
       "      <th>1829007</th>\n",
       "      <td>in-Ear Headphones R 20 Earphones for Xiaomi Re...</td>\n",
       "      <td>Double moving coil loud speakers deliver wonde...</td>\n",
       "      <td>[Enjoy the powerful 11.2mm bass boost driver w...</td>\n",
       "      <td>ShopsGeniune</td>\n",
       "      <td>811</td>\n",
       "    </tr>\n",
       "    <tr>\n",
       "      <th>1900577</th>\n",
       "      <td>Style Store Men's Velvet Closed Executive Form...</td>\n",
       "      <td>Rendered with the modern-day appeal, this marv...</td>\n",
       "      <td>[Sole: Airmix,It is nice affordable shoes for ...</td>\n",
       "      <td>Style Store</td>\n",
       "      <td>1409</td>\n",
       "    </tr>\n",
       "    <tr>\n",
       "      <th>1223071</th>\n",
       "      <td>Shopsmeade I Will Be No.1 - Katsuki Bakugo Mug...</td>\n",
       "      <td>Shopsmeade mugs are a great gift for any occas...</td>\n",
       "      <td>[Unique designs, 100% Premium printing, Author...</td>\n",
       "      <td>Shopsmeade</td>\n",
       "      <td>11</td>\n",
       "    </tr>\n",
       "    <tr>\n",
       "      <th>1623189</th>\n",
       "      <td>MJDCNC V8 Bluetooth Smartwatch Compatible with...</td>\n",
       "      <td>ABOUT THE PRODUCT External Dimension: 53.0X44....</td>\n",
       "      <td>[SMARTWATCH FEATURE:- 1.54 HD TFT High Sensiti...</td>\n",
       "      <td>MJDCNC</td>\n",
       "      <td>507</td>\n",
       "    </tr>\n",
       "    <tr>\n",
       "      <th>2111578</th>\n",
       "      <td>Keshav Temples Dakshinavarti Shankh - with Curls</td>\n",
       "      <td>Right Handed Shankh Non-Blowable Natural Curls...</td>\n",
       "      <td>Right Handed Shankh Non-Blowable Natural Curls...</td>\n",
       "      <td>KESHAV JEE</td>\n",
       "      <td>1287</td>\n",
       "    </tr>\n",
       "    <tr>\n",
       "      <th>...</th>\n",
       "      <td>...</td>\n",
       "      <td>...</td>\n",
       "      <td>...</td>\n",
       "      <td>...</td>\n",
       "      <td>...</td>\n",
       "    </tr>\n",
       "    <tr>\n",
       "      <th>2485380</th>\n",
       "      <td>Derbenny Camouflage Windcheater for Men</td>\n",
       "      <td>An All - Time Classic Style For Every Metro Ma...</td>\n",
       "      <td>[Full zip closure on the front,Attached hood w...</td>\n",
       "      <td>Derbenny</td>\n",
       "      <td>30478</td>\n",
       "    </tr>\n",
       "    <tr>\n",
       "      <th>1591010</th>\n",
       "      <td>Itspleazure Detachable and Adjustable Butterfl...</td>\n",
       "      <td>Detachable &amp; Adjustable Butterfly Swing Set &amp; ...</td>\n",
       "      <td>[Detachable &amp; Adjustable Butterfly Swing Set &amp;...</td>\n",
       "      <td>Itspleazure</td>\n",
       "      <td>9285</td>\n",
       "    </tr>\n",
       "    <tr>\n",
       "      <th>2482114</th>\n",
       "      <td>Shengshou Mobile Back Cover for Samsung Galaxy...</td>\n",
       "      <td>Shengshou back covers are the best attractive ...</td>\n",
       "      <td>[Sublimation Cover,Hard Cover,Designed and Pri...</td>\n",
       "      <td>Shengshou</td>\n",
       "      <td>1045</td>\n",
       "    </tr>\n",
       "    <tr>\n",
       "      <th>1632162</th>\n",
       "      <td>Ejoyous Infrared Beam Waterproof Security Aler...</td>\n",
       "      <td>&lt;b&gt;Description:&lt;/b&gt;&lt;br&gt; This is a pair of infr...</td>\n",
       "      <td>[▲ Infrared beam sensor, Its four channel freq...</td>\n",
       "      <td>Ejoyous</td>\n",
       "      <td>43</td>\n",
       "    </tr>\n",
       "    <tr>\n",
       "      <th>23642</th>\n",
       "      <td>kinbor Patio Wicker Furniture Sectional Sofa S...</td>\n",
       "      <td>&lt;p&gt;&lt;b&gt;Description:&lt;/b&gt;&lt;/p&gt; &lt;p&gt;Make your patio ...</td>\n",
       "      <td>[Please measure the size information of your o...</td>\n",
       "      <td>kinbor</td>\n",
       "      <td>912</td>\n",
       "    </tr>\n",
       "  </tbody>\n",
       "</table>\n",
       "<p>800000 rows × 5 columns</p>\n",
       "</div>"
      ],
      "text/plain": [
       "                                                     TITLE  \\\n",
       "1829007  in-Ear Headphones R 20 Earphones for Xiaomi Re...   \n",
       "1900577  Style Store Men's Velvet Closed Executive Form...   \n",
       "1223071  Shopsmeade I Will Be No.1 - Katsuki Bakugo Mug...   \n",
       "1623189  MJDCNC V8 Bluetooth Smartwatch Compatible with...   \n",
       "2111578   Keshav Temples Dakshinavarti Shankh - with Curls   \n",
       "...                                                    ...   \n",
       "2485380            Derbenny Camouflage Windcheater for Men   \n",
       "1591010  Itspleazure Detachable and Adjustable Butterfl...   \n",
       "2482114  Shengshou Mobile Back Cover for Samsung Galaxy...   \n",
       "1632162  Ejoyous Infrared Beam Waterproof Security Aler...   \n",
       "23642    kinbor Patio Wicker Furniture Sectional Sofa S...   \n",
       "\n",
       "                                               DESCRIPTION  \\\n",
       "1829007  Double moving coil loud speakers deliver wonde...   \n",
       "1900577  Rendered with the modern-day appeal, this marv...   \n",
       "1223071  Shopsmeade mugs are a great gift for any occas...   \n",
       "1623189  ABOUT THE PRODUCT External Dimension: 53.0X44....   \n",
       "2111578  Right Handed Shankh Non-Blowable Natural Curls...   \n",
       "...                                                    ...   \n",
       "2485380  An All - Time Classic Style For Every Metro Ma...   \n",
       "1591010  Detachable & Adjustable Butterfly Swing Set & ...   \n",
       "2482114  Shengshou back covers are the best attractive ...   \n",
       "1632162  <b>Description:</b><br> This is a pair of infr...   \n",
       "23642    <p><b>Description:</b></p> <p>Make your patio ...   \n",
       "\n",
       "                                             BULLET_POINTS         BRAND  \\\n",
       "1829007  [Enjoy the powerful 11.2mm bass boost driver w...  ShopsGeniune   \n",
       "1900577  [Sole: Airmix,It is nice affordable shoes for ...   Style Store   \n",
       "1223071  [Unique designs, 100% Premium printing, Author...    Shopsmeade   \n",
       "1623189  [SMARTWATCH FEATURE:- 1.54 HD TFT High Sensiti...        MJDCNC   \n",
       "2111578  Right Handed Shankh Non-Blowable Natural Curls...    KESHAV JEE   \n",
       "...                                                    ...           ...   \n",
       "2485380  [Full zip closure on the front,Attached hood w...      Derbenny   \n",
       "1591010  [Detachable & Adjustable Butterfly Swing Set &...   Itspleazure   \n",
       "2482114  [Sublimation Cover,Hard Cover,Designed and Pri...     Shengshou   \n",
       "1632162  [▲ Infrared beam sensor, Its four channel freq...       Ejoyous   \n",
       "23642    [Please measure the size information of your o...        kinbor   \n",
       "\n",
       "         BROWSE_NODE_ID  \n",
       "1829007             811  \n",
       "1900577            1409  \n",
       "1223071              11  \n",
       "1623189             507  \n",
       "2111578            1287  \n",
       "...                 ...  \n",
       "2485380           30478  \n",
       "1591010            9285  \n",
       "2482114            1045  \n",
       "1632162              43  \n",
       "23642               912  \n",
       "\n",
       "[800000 rows x 5 columns]"
      ]
     },
     "execution_count": 8,
     "metadata": {},
     "output_type": "execute_result"
    }
   ],
   "source": [
    "file_path = 'train_800k.csv'\n",
    "train_data = pd.read_csv(file_path, index_col=0)\n",
    "train_data"
   ]
  },
  {
   "cell_type": "code",
   "execution_count": 9,
   "id": "e3acd709",
   "metadata": {},
   "outputs": [
    {
     "data": {
      "text/plain": [
       "(800000, 5)"
      ]
     },
     "execution_count": 9,
     "metadata": {},
     "output_type": "execute_result"
    }
   ],
   "source": [
    "train_data.shape"
   ]
  },
  {
   "cell_type": "code",
   "execution_count": 15,
   "id": "758073db",
   "metadata": {},
   "outputs": [],
   "source": [
    "import multiprocessing\n",
    "\n",
    "def worker():\n",
    "    \"\"\"worker function\"\"\"\n",
    "    print(\"a\")\n",
    "    return\n",
    "\n",
    "\n"
   ]
  },
  {
   "cell_type": "code",
   "execution_count": 24,
   "id": "bef9c654",
   "metadata": {},
   "outputs": [
    {
     "name": "stdout",
     "output_type": "stream",
     "text": [
      "a\n",
      "a\n",
      "a\n",
      "\n",
      "aa\n"
     ]
    }
   ],
   "source": [
    "jobs = []\n",
    "for i in range(5):\n",
    "    p = multiprocessing.Process(target=worker)\n",
    "    jobs.append(p)\n",
    "    p.start()"
   ]
  },
  {
   "cell_type": "code",
   "execution_count": 28,
   "id": "603db90e",
   "metadata": {},
   "outputs": [],
   "source": [
    "def a():\n",
    "    print(\"a\")\n",
    "def b():\n",
    "    print(\"b\")\n",
    "def c():\n",
    "    print(\"c\")\n",
    "def d():\n",
    "    print(\"d\")\n",
    "def e():\n",
    "    print(\"e\")\n",
    "def f():\n",
    "    print(\"f\")\n",
    "def g():\n",
    "    print(\"g\")\n",
    "def h():\n",
    "    print(\"h\")\n",
    "def i():\n",
    "    print(\"i\")\n",
    "def j():\n",
    "    print(\"j\")\n",
    "    "
   ]
  },
  {
   "cell_type": "code",
   "execution_count": 30,
   "id": "3222113f",
   "metadata": {},
   "outputs": [
    {
     "name": "stdout",
     "output_type": "stream",
     "text": [
      "a\n",
      "\n",
      "bc\n",
      "d\n",
      "e\n",
      "f\n",
      "g\n",
      "h\n",
      "i\n",
      "j\n"
     ]
    }
   ],
   "source": [
    "p = multiprocessing.Process(target=a)\n",
    "p.start()\n",
    "p = multiprocessing.Process(target=b)\n",
    "p.start()\n",
    "p = multiprocessing.Process(target=c)\n",
    "p.start()\n",
    "p = multiprocessing.Process(target=d)\n",
    "p.start()\n",
    "p = multiprocessing.Process(target=e)\n",
    "p.start()\n",
    "p = multiprocessing.Process(target=f)\n",
    "p.start()\n",
    "p = multiprocessing.Process(target=g)\n",
    "p.start()\n",
    "p = multiprocessing.Process(target=h)\n",
    "p.start()\n",
    "p = multiprocessing.Process(target=i)\n",
    "p.start()\n",
    "p = multiprocessing.Process(target=j)\n",
    "p.start()"
   ]
  },
  {
   "cell_type": "code",
   "execution_count": 48,
   "id": "08a876cd",
   "metadata": {},
   "outputs": [
    {
     "name": "stderr",
     "output_type": "stream",
     "text": [
      "Exception in thread Thread-17:\n",
      "Traceback (most recent call last):\n",
      "  File \"/usr/lib/python3.8/threading.py\", line 932, in _bootstrap_inner\n",
      "Exception in thread Thread-18:\n",
      "Traceback (most recent call last):\n",
      "  File \"/usr/lib/python3.8/threading.py\", line 932, in _bootstrap_inner\n",
      "    self.run()\n",
      "  File \"/usr/lib/python3.8/threading.py\", line 870, in run\n",
      "    self._target(*self._args, **self._kwargs)    \n",
      "TypeError: print_square() takes 1 positional argument but 2 were given\n",
      "self.run()\n",
      "  File \"/usr/lib/python3.8/threading.py\", line 870, in run\n",
      "    self._target(*self._args, **self._kwargs)\n",
      "TypeError: print_cube() missing 1 required positional argument: 'a'\n"
     ]
    },
    {
     "name": "stdout",
     "output_type": "stream",
     "text": [
      "Done!\n"
     ]
    }
   ],
   "source": [
    "# Python program to illustrate the concept\n",
    "# of threading\n",
    "# importing the threading module\n",
    "import threading\n",
    "cu=0\n",
    "sq=0\n",
    "def print_cube(num, a):\n",
    "\t\"\"\"\n",
    "\tfunction to print cube of given num\n",
    "\t\"\"\"\n",
    "\ta = num*num*num\n",
    "\tprint(a)\n",
    "\tprint(\"Cube: {}\".format(num * num * num))\n",
    "\n",
    "def print_square(num):\n",
    "\t\"\"\"\n",
    "\tfunction to print square of given num\n",
    "\t\"\"\"\n",
    "\tsq=num*num\n",
    "\tprint(\"Square: {}\".format(num * num))\n",
    "\n",
    "if __name__ == \"__main__\":\n",
    "\t# creating thread\n",
    "\tt1 = threading.Thread(target=print_square, args=(10,cu))\n",
    "\tt2 = threading.Thread(target=print_cube, args=(10,))\n",
    "\n",
    "\t# starting thread 1\n",
    "\tt1.start()\n",
    "\t# starting thread 2\n",
    "\tt2.start()\n",
    "\n",
    "\t# wait until thread 1 is completely executed\n",
    "\tt1.join()\n",
    "\t# wait until thread 2 is completely executed\n",
    "\tt2.join()\n",
    "\n",
    "\t# both threads completely executed\n",
    "\tprint(\"Done!\")\n"
   ]
  },
  {
   "cell_type": "code",
   "execution_count": 46,
   "id": "fe452d93",
   "metadata": {},
   "outputs": [
    {
     "data": {
      "text/plain": [
       "0"
      ]
     },
     "execution_count": 46,
     "metadata": {},
     "output_type": "execute_result"
    }
   ],
   "source": [
    "cu\n"
   ]
  },
  {
   "cell_type": "code",
   "execution_count": 47,
   "id": "7519e08d",
   "metadata": {},
   "outputs": [
    {
     "data": {
      "text/plain": [
       "0"
      ]
     },
     "execution_count": 47,
     "metadata": {},
     "output_type": "execute_result"
    }
   ],
   "source": [
    "sq"
   ]
  },
  {
   "cell_type": "code",
   "execution_count": null,
   "id": "5ffe69ed",
   "metadata": {},
   "outputs": [],
   "source": []
  }
 ],
 "metadata": {
  "kernelspec": {
   "display_name": "Python 3 (ipykernel)",
   "language": "python",
   "name": "python3"
  },
  "language_info": {
   "codemirror_mode": {
    "name": "ipython",
    "version": 3
   },
   "file_extension": ".py",
   "mimetype": "text/x-python",
   "name": "python",
   "nbconvert_exporter": "python",
   "pygments_lexer": "ipython3",
   "version": "3.8.10"
  }
 },
 "nbformat": 4,
 "nbformat_minor": 5
}
