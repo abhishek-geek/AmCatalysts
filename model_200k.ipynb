{
 "cells": [
  {
   "cell_type": "code",
   "execution_count": 1,
   "id": "72bafdb9",
   "metadata": {
    "id": "72bafdb9"
   },
   "outputs": [
    {
     "name": "stderr",
     "output_type": "stream",
     "text": [
      "2021-08-01 17:22:24.431563: W tensorflow/stream_executor/platform/default/dso_loader.cc:64] Could not load dynamic library 'libcudart.so.11.0'; dlerror: libcudart.so.11.0: cannot open shared object file: No such file or directory\n",
      "2021-08-01 17:22:24.431583: I tensorflow/stream_executor/cuda/cudart_stub.cc:29] Ignore above cudart dlerror if you do not have a GPU set up on your machine.\n"
     ]
    }
   ],
   "source": [
    "import pandas as pd\n",
    "import numpy as np\n",
    "from threading import Thread\n",
    "import spacy\n",
    "import csv\n",
    "nlp = spacy.load('en_core_web_lg')"
   ]
  },
  {
   "cell_type": "code",
   "execution_count": 2,
   "id": "739b1c36",
   "metadata": {
    "colab": {
     "base_uri": "https://localhost:8080/",
     "height": 286
    },
    "id": "739b1c36",
    "outputId": "1d5878ba-d8a8-4b69-bc13-b4bc53f25475"
   },
   "outputs": [],
   "source": [
    "file_path = 'train_800k.csv'\n",
    "train_data = pd.read_csv(file_path, index_col=0)"
   ]
  },
  {
   "cell_type": "code",
   "execution_count": 3,
   "id": "8e03366a",
   "metadata": {},
   "outputs": [
    {
     "name": "stderr",
     "output_type": "stream",
     "text": [
      "/home/abhishek/.local/lib/python3.8/site-packages/IPython/core/interactiveshell.py:3441: FutureWarning: The error_bad_lines argument has been deprecated and will be removed in a future version.\n",
      "\n",
      "\n",
      "  exec(code_obj, self.user_global_ns, self.user_ns)\n"
     ]
    },
    {
     "data": {
      "text/html": [
       "<div>\n",
       "<style scoped>\n",
       "    .dataframe tbody tr th:only-of-type {\n",
       "        vertical-align: middle;\n",
       "    }\n",
       "\n",
       "    .dataframe tbody tr th {\n",
       "        vertical-align: top;\n",
       "    }\n",
       "\n",
       "    .dataframe thead th {\n",
       "        text-align: right;\n",
       "    }\n",
       "</style>\n",
       "<table border=\"1\" class=\"dataframe\">\n",
       "  <thead>\n",
       "    <tr style=\"text-align: right;\">\n",
       "      <th></th>\n",
       "      <th>PRODUCT_ID</th>\n",
       "      <th>TITLE</th>\n",
       "      <th>DESCRIPTION</th>\n",
       "      <th>BULLET_POINTS</th>\n",
       "      <th>BRAND</th>\n",
       "    </tr>\n",
       "  </thead>\n",
       "  <tbody>\n",
       "    <tr>\n",
       "      <th>0</th>\n",
       "      <td>1</td>\n",
       "      <td>Command 3M Small Kitchen Hooks, White, Decorat...</td>\n",
       "      <td>Sale Unit: PACK</td>\n",
       "      <td>[INCLUDES - 9 hooks and 12 small indoor strips...</td>\n",
       "      <td>Command</td>\n",
       "    </tr>\n",
       "    <tr>\n",
       "      <th>1</th>\n",
       "      <td>2</td>\n",
       "      <td>O'Neal Jump Hardware JAG Unisex-Adult Glove (B...</td>\n",
       "      <td>Synthetic leather palm with double-layer thumb...</td>\n",
       "      <td>[Silicone printing for a better grip. Long las...</td>\n",
       "      <td>O'Neal</td>\n",
       "    </tr>\n",
       "    <tr>\n",
       "      <th>2</th>\n",
       "      <td>3</td>\n",
       "      <td>NFL Detroit Lions Portable Party Fridge, 15.8 ...</td>\n",
       "      <td>Boelter Brands lets you celebrate your favorit...</td>\n",
       "      <td>[Runs on 12 Volt DC Power or 110 Volt AC Power...</td>\n",
       "      <td>Boelter Brands</td>\n",
       "    </tr>\n",
       "    <tr>\n",
       "      <th>3</th>\n",
       "      <td>4</td>\n",
       "      <td>Panasonic Single Line KX-TS880MX Corded Phone ...</td>\n",
       "      <td>Features: 50 Station Phonebook Corded Phone Al...</td>\n",
       "      <td>Panasonic Landline Phones doesn't come with a ...</td>\n",
       "      <td>Panasonic</td>\n",
       "    </tr>\n",
       "    <tr>\n",
       "      <th>4</th>\n",
       "      <td>5</td>\n",
       "      <td>Zero Baby Girl's 100% Cotton Innerwear Bloomer...</td>\n",
       "      <td>Zero Baby Girl Panties Set. 100% Cotton, Breat...</td>\n",
       "      <td>[Zero Baby Girl Panties, Pack of 6, 100% Cotto...</td>\n",
       "      <td>Zero</td>\n",
       "    </tr>\n",
       "  </tbody>\n",
       "</table>\n",
       "</div>"
      ],
      "text/plain": [
       "   PRODUCT_ID                                              TITLE  \\\n",
       "0           1  Command 3M Small Kitchen Hooks, White, Decorat...   \n",
       "1           2  O'Neal Jump Hardware JAG Unisex-Adult Glove (B...   \n",
       "2           3  NFL Detroit Lions Portable Party Fridge, 15.8 ...   \n",
       "3           4  Panasonic Single Line KX-TS880MX Corded Phone ...   \n",
       "4           5  Zero Baby Girl's 100% Cotton Innerwear Bloomer...   \n",
       "\n",
       "                                         DESCRIPTION  \\\n",
       "0                                    Sale Unit: PACK   \n",
       "1  Synthetic leather palm with double-layer thumb...   \n",
       "2  Boelter Brands lets you celebrate your favorit...   \n",
       "3  Features: 50 Station Phonebook Corded Phone Al...   \n",
       "4  Zero Baby Girl Panties Set. 100% Cotton, Breat...   \n",
       "\n",
       "                                       BULLET_POINTS           BRAND  \n",
       "0  [INCLUDES - 9 hooks and 12 small indoor strips...         Command  \n",
       "1  [Silicone printing for a better grip. Long las...          O'Neal  \n",
       "2  [Runs on 12 Volt DC Power or 110 Volt AC Power...  Boelter Brands  \n",
       "3  Panasonic Landline Phones doesn't come with a ...       Panasonic  \n",
       "4  [Zero Baby Girl Panties, Pack of 6, 100% Cotto...            Zero  "
      ]
     },
     "execution_count": 3,
     "metadata": {},
     "output_type": "execute_result"
    }
   ],
   "source": [
    "file_path = './dataset/test.csv'\n",
    "escape_char_defined = \"\\\\\"\n",
    "test_data = pd.read_csv(file_path, error_bad_lines=False, quoting=csv.QUOTE_NONE, escapechar=escape_char_defined)\n",
    "test_data.head()"
   ]
  },
  {
   "cell_type": "code",
   "execution_count": 4,
   "id": "92864598",
   "metadata": {},
   "outputs": [],
   "source": [
    "test_data = test_data.replace(np.nan, '', regex=True)"
   ]
  },
  {
   "cell_type": "code",
   "execution_count": 5,
   "id": "a4aa476f",
   "metadata": {
    "id": "a4aa476f"
   },
   "outputs": [],
   "source": [
    "train_data = train_data.dropna(axis=0)"
   ]
  },
  {
   "cell_type": "code",
   "execution_count": 6,
   "id": "d6ba1a36",
   "metadata": {},
   "outputs": [],
   "source": [
    "# train_data = train_data.head(8000)"
   ]
  },
  {
   "cell_type": "code",
   "execution_count": 7,
   "id": "914cfee7",
   "metadata": {},
   "outputs": [],
   "source": [
    "# test_data = test_data.head(8000)"
   ]
  },
  {
   "cell_type": "code",
   "execution_count": 8,
   "id": "1becf254",
   "metadata": {},
   "outputs": [
    {
     "data": {
      "text/plain": [
       "(8000, 5)"
      ]
     },
     "execution_count": 8,
     "metadata": {},
     "output_type": "execute_result"
    }
   ],
   "source": [
    "test_data.shape"
   ]
  },
  {
   "cell_type": "code",
   "execution_count": 9,
   "id": "035a41f6",
   "metadata": {},
   "outputs": [
    {
     "data": {
      "text/plain": [
       "(8000, 5)"
      ]
     },
     "execution_count": 9,
     "metadata": {},
     "output_type": "execute_result"
    }
   ],
   "source": [
    "train_data.shape"
   ]
  },
  {
   "cell_type": "code",
   "execution_count": 10,
   "id": "223a86fc",
   "metadata": {},
   "outputs": [],
   "source": [
    "threads = []"
   ]
  },
  {
   "cell_type": "markdown",
   "id": "141364e2",
   "metadata": {},
   "source": [
    "## train data test"
   ]
  },
  {
   "cell_type": "code",
   "execution_count": 11,
   "id": "9e5048c2",
   "metadata": {
    "id": "9e5048c2"
   },
   "outputs": [],
   "source": [
    "def get_title_vec():\n",
    "    lst=[]\n",
    "    with nlp.disable_pipes():\n",
    "        for idx, data in train_data.iterrows():\n",
    "            filtered_text = \"\"\n",
    "            doc = nlp(data[\"TITLE\"])\n",
    "            for token in doc:\n",
    "                if(token.is_stop==False):\n",
    "                    filtered_text = filtered_text+\" \"+str(token)\n",
    "            lst.append(nlp(filtered_text).vector)\n",
    "    global title_vector\n",
    "    title_vector = np.array(lst)\n",
    "\n",
    "# threads.append(Thread(target=get_title_vec))"
   ]
  },
  {
   "cell_type": "code",
   "execution_count": 12,
   "id": "f2f443f8",
   "metadata": {},
   "outputs": [],
   "source": [
    "def get_desc_vec():\n",
    "    lst=[]\n",
    "    with nlp.disable_pipes():\n",
    "        for idx, data in train_data.iterrows():\n",
    "            filtered_text = \"\"\n",
    "            doc = nlp(data[\"DESCRIPTION\"])\n",
    "            for token in doc:\n",
    "                if(token.is_stop==False):\n",
    "                    filtered_text = filtered_text+\" \"+str(token)\n",
    "            lst.append(nlp(filtered_text).vector)\n",
    "    global desc_vector\n",
    "    desc_vector = np.array(lst)\n",
    "    \n",
    "# threads.append(Thread(target=get_desc_vec))"
   ]
  },
  {
   "cell_type": "code",
   "execution_count": 13,
   "id": "d4461447",
   "metadata": {},
   "outputs": [],
   "source": [
    "def get_brand_vec():\n",
    "    lst = []\n",
    "    with nlp.disable_pipes():\n",
    "        for idx, data in train_data.iterrows():\n",
    "            doc = nlp(data[\"BRAND\"])\n",
    "            lst.append(doc.vector)\n",
    "    global brand_vector\n",
    "    brand_vector = np.array(lst)\n",
    "    \n",
    "# threads.append(Thread(target=get_brand_vec))"
   ]
  },
  {
   "cell_type": "code",
   "execution_count": 14,
   "id": "d5b2a231",
   "metadata": {},
   "outputs": [],
   "source": [
    "def get_bp_vec():\n",
    "    lst=[]\n",
    "    with nlp.disable_pipes():\n",
    "        for idx, data in train_data.iterrows():\n",
    "            filtered_text = \"\"\n",
    "            doc = nlp(data[\"BULLET_POINTS\"])\n",
    "            for token in doc:\n",
    "                if(token.is_stop==False):\n",
    "                    filtered_text = filtered_text+\" \"+str(token)\n",
    "            lst.append(nlp(filtered_text).vector)\n",
    "    global bp_vector\n",
    "    bp_vector = np.array(lst)\n",
    "    \n",
    "threads.append(Thread(target=get_bp_vec))"
   ]
  },
  {
   "cell_type": "markdown",
   "id": "56829cc3",
   "metadata": {},
   "source": [
    "## test data threads"
   ]
  },
  {
   "cell_type": "code",
   "execution_count": 15,
   "id": "9fa1509d",
   "metadata": {},
   "outputs": [],
   "source": [
    "def get_title_vec():\n",
    "    lst=[]\n",
    "    with nlp.disable_pipes():\n",
    "        for idx, data in test_data.iterrows():\n",
    "            filtered_text = \"\"\n",
    "            doc = nlp(data[\"TITLE\"])\n",
    "            for token in doc:\n",
    "                if(token.is_stop==False):\n",
    "                    filtered_text = filtered_text+\" \"+str(token)\n",
    "            lst.append(nlp(filtered_text).vector)\n",
    "    global t_title_vector\n",
    "    t_title_vector = np.array(lst)\n",
    "\n",
    "# threads.append(Thread(target=get_title_vec))"
   ]
  },
  {
   "cell_type": "code",
   "execution_count": 16,
   "id": "d134bc5f",
   "metadata": {},
   "outputs": [],
   "source": [
    "def get_desc_vec():\n",
    "    lst=[]\n",
    "    with nlp.disable_pipes():\n",
    "        for idx, data in train_data.iterrows():\n",
    "            filtered_text = \"\"\n",
    "            doc = nlp(data[\"DESCRIPTION\"])\n",
    "            for token in doc:\n",
    "                if(token.is_stop==False):\n",
    "                    filtered_text = filtered_text+\" \"+str(token)\n",
    "            lst.append(nlp(filtered_text).vector)\n",
    "    global t_desc_vector\n",
    "    t_desc_vector = np.array(lst)\n",
    "    \n",
    "# threads.append(Thread(target=get_desc_vec))"
   ]
  },
  {
   "cell_type": "code",
   "execution_count": 17,
   "id": "6ddc2af9",
   "metadata": {},
   "outputs": [],
   "source": [
    "def get_brand_vec():\n",
    "    lst = []\n",
    "    with nlp.disable_pipes():\n",
    "        for idx, data in train_data.iterrows():\n",
    "            doc = nlp(data[\"BRAND\"])\n",
    "            lst.append(doc.vector)\n",
    "    global t_brand_vector\n",
    "    t_brand_vector = np.array(lst)\n",
    "    \n",
    "# threads.append(Thread(target=get_brand_vec))"
   ]
  },
  {
   "cell_type": "code",
   "execution_count": 18,
   "id": "64a51511",
   "metadata": {},
   "outputs": [],
   "source": [
    "def get_bp_vec():\n",
    "    lst=[]\n",
    "    with nlp.disable_pipes():\n",
    "        for idx, data in test_data.iterrows():\n",
    "            filtered_text = \"\"\n",
    "            doc = nlp(data[\"BULLET_POINTS\"])\n",
    "            for token in doc:\n",
    "                if(token.is_stop==False):\n",
    "                    filtered_text = filtered_text+\" \"+str(token)\n",
    "            lst.append(nlp(filtered_text).vector)\n",
    "    global t_bp_vector\n",
    "    t_bp_vector = np.array(lst)\n",
    "    \n",
    "threads.append(Thread(target=get_bp_vec))"
   ]
  },
  {
   "cell_type": "code",
   "execution_count": 19,
   "id": "52f138bf",
   "metadata": {},
   "outputs": [
    {
     "data": {
      "text/plain": [
       "[<Thread(Thread-7, initial)>, <Thread(Thread-8, initial)>]"
      ]
     },
     "execution_count": 19,
     "metadata": {},
     "output_type": "execute_result"
    }
   ],
   "source": [
    "threads"
   ]
  },
  {
   "cell_type": "code",
   "execution_count": 20,
   "id": "b8f8c0b3",
   "metadata": {},
   "outputs": [],
   "source": [
    "def run_threads():\n",
    "    for t in threads:\n",
    "        t.start()\n",
    "    for t in threads:\n",
    "        t.join()\n",
    "#     A = (title_vector, desc_vector, brand_vector, bp_vector)\n",
    "    global X\n",
    "#     X = np.hstack(A)\n",
    "    X = bp_vector\n",
    "#     B = (t_title_vector, t_desc_vector, t_brand_vector, t_bp_vector)\n",
    "    global t_X\n",
    "#     t_X = np.hstack(A)\n",
    "    t_X = t_bp_vector\n",
    "    "
   ]
  },
  {
   "cell_type": "code",
   "execution_count": 21,
   "id": "35959df4",
   "metadata": {},
   "outputs": [
    {
     "data": {
      "text/plain": [
       "(8000, 300)"
      ]
     },
     "execution_count": 21,
     "metadata": {},
     "output_type": "execute_result"
    }
   ],
   "source": [
    "run_threads()\n",
    "X.shape"
   ]
  },
  {
   "cell_type": "code",
   "execution_count": null,
   "id": "DiUY-4opYkaG",
   "metadata": {
    "id": "DiUY-4opYkaG"
   },
   "outputs": [],
   "source": []
  },
  {
   "cell_type": "code",
   "execution_count": 22,
   "id": "znwdOY8MXZcj",
   "metadata": {
    "colab": {
     "base_uri": "https://localhost:8080/"
    },
    "id": "znwdOY8MXZcj",
    "outputId": "f27387d0-666b-4005-cc71-598e3d42c0a7"
   },
   "outputs": [
    {
     "data": {
      "text/plain": [
       "LinearSVC(dual=False, random_state=1)"
      ]
     },
     "execution_count": 22,
     "metadata": {},
     "output_type": "execute_result"
    }
   ],
   "source": [
    "from sklearn.svm import LinearSVC\n",
    "model = LinearSVC(random_state=1, dual=False)\n",
    "model.fit(X, train_data[\"BROWSE_NODE_ID\"])"
   ]
  },
  {
   "cell_type": "code",
   "execution_count": null,
   "id": "Pkp-9mZ5g3Jj",
   "metadata": {
    "colab": {
     "base_uri": "https://localhost:8080/",
     "height": 286
    },
    "id": "Pkp-9mZ5g3Jj",
    "outputId": "e4790142-d37e-4fa4-e496-af1516b1c067"
   },
   "outputs": [],
   "source": []
  },
  {
   "cell_type": "code",
   "execution_count": 23,
   "id": "c8N3GxRdjDx3",
   "metadata": {
    "colab": {
     "base_uri": "https://localhost:8080/"
    },
    "id": "c8N3GxRdjDx3",
    "outputId": "b64c5646-35d5-4463-c49c-fc204a9e351b"
   },
   "outputs": [
    {
     "data": {
      "text/plain": [
       "array([  74, 1045, 2821, ..., 1045,  507,  709])"
      ]
     },
     "execution_count": 23,
     "metadata": {},
     "output_type": "execute_result"
    }
   ],
   "source": [
    "preds = model.predict(t_X)\n",
    "preds"
   ]
  },
  {
   "cell_type": "code",
   "execution_count": 24,
   "id": "P0XStkU0jQkq",
   "metadata": {
    "id": "P0XStkU0jQkq"
   },
   "outputs": [
    {
     "data": {
      "text/html": [
       "<div>\n",
       "<style scoped>\n",
       "    .dataframe tbody tr th:only-of-type {\n",
       "        vertical-align: middle;\n",
       "    }\n",
       "\n",
       "    .dataframe tbody tr th {\n",
       "        vertical-align: top;\n",
       "    }\n",
       "\n",
       "    .dataframe thead th {\n",
       "        text-align: right;\n",
       "    }\n",
       "</style>\n",
       "<table border=\"1\" class=\"dataframe\">\n",
       "  <thead>\n",
       "    <tr style=\"text-align: right;\">\n",
       "      <th></th>\n",
       "      <th>PRODUCT_ID</th>\n",
       "      <th>BROWSE_NODE_ID</th>\n",
       "    </tr>\n",
       "  </thead>\n",
       "  <tbody>\n",
       "    <tr>\n",
       "      <th>0</th>\n",
       "      <td>1</td>\n",
       "      <td>74</td>\n",
       "    </tr>\n",
       "    <tr>\n",
       "      <th>1</th>\n",
       "      <td>2</td>\n",
       "      <td>1045</td>\n",
       "    </tr>\n",
       "    <tr>\n",
       "      <th>2</th>\n",
       "      <td>3</td>\n",
       "      <td>2821</td>\n",
       "    </tr>\n",
       "    <tr>\n",
       "      <th>3</th>\n",
       "      <td>4</td>\n",
       "      <td>1045</td>\n",
       "    </tr>\n",
       "    <tr>\n",
       "      <th>4</th>\n",
       "      <td>5</td>\n",
       "      <td>1203</td>\n",
       "    </tr>\n",
       "    <tr>\n",
       "      <th>...</th>\n",
       "      <td>...</td>\n",
       "      <td>...</td>\n",
       "    </tr>\n",
       "    <tr>\n",
       "      <th>7995</th>\n",
       "      <td>7996</td>\n",
       "      <td>977</td>\n",
       "    </tr>\n",
       "    <tr>\n",
       "      <th>7996</th>\n",
       "      <td>7997</td>\n",
       "      <td>1045</td>\n",
       "    </tr>\n",
       "    <tr>\n",
       "      <th>7997</th>\n",
       "      <td>7998</td>\n",
       "      <td>1045</td>\n",
       "    </tr>\n",
       "    <tr>\n",
       "      <th>7998</th>\n",
       "      <td>7999</td>\n",
       "      <td>507</td>\n",
       "    </tr>\n",
       "    <tr>\n",
       "      <th>7999</th>\n",
       "      <td>8000</td>\n",
       "      <td>709</td>\n",
       "    </tr>\n",
       "  </tbody>\n",
       "</table>\n",
       "<p>8000 rows × 2 columns</p>\n",
       "</div>"
      ],
      "text/plain": [
       "      PRODUCT_ID  BROWSE_NODE_ID\n",
       "0              1              74\n",
       "1              2            1045\n",
       "2              3            2821\n",
       "3              4            1045\n",
       "4              5            1203\n",
       "...          ...             ...\n",
       "7995        7996             977\n",
       "7996        7997            1045\n",
       "7997        7998            1045\n",
       "7998        7999             507\n",
       "7999        8000             709\n",
       "\n",
       "[8000 rows x 2 columns]"
      ]
     },
     "execution_count": 24,
     "metadata": {},
     "output_type": "execute_result"
    }
   ],
   "source": [
    "df = pd.DataFrame()\n",
    "df[\"PRODUCT_ID\"] = test_data[\"PRODUCT_ID\"]\n",
    "df[\"BROWSE_NODE_ID\"] = preds\n",
    "df"
   ]
  },
  {
   "cell_type": "code",
   "execution_count": 25,
   "id": "XfPr1Cv-RfYD",
   "metadata": {
    "id": "XfPr1Cv-RfYD"
   },
   "outputs": [],
   "source": [
    "df.to_csv('submit_800k-1.csv',index=False)\n"
   ]
  },
  {
   "cell_type": "code",
   "execution_count": null,
   "id": "de9ca428",
   "metadata": {},
   "outputs": [],
   "source": []
  },
  {
   "cell_type": "code",
   "execution_count": null,
   "id": "22b1eb46",
   "metadata": {},
   "outputs": [],
   "source": []
  },
  {
   "cell_type": "code",
   "execution_count": null,
   "id": "dd589794",
   "metadata": {},
   "outputs": [],
   "source": []
  }
 ],
 "metadata": {
  "colab": {
   "collapsed_sections": [],
   "name": "model-1.ipynb",
   "provenance": []
  },
  "kernelspec": {
   "display_name": "Python 3 (ipykernel)",
   "language": "python",
   "name": "python3"
  },
  "language_info": {
   "codemirror_mode": {
    "name": "ipython",
    "version": 3
   },
   "file_extension": ".py",
   "mimetype": "text/x-python",
   "name": "python",
   "nbconvert_exporter": "python",
   "pygments_lexer": "ipython3",
   "version": "3.8.10"
  }
 },
 "nbformat": 4,
 "nbformat_minor": 5
}
